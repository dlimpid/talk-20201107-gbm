{
 "cells": [
  {
   "cell_type": "markdown",
   "metadata": {},
   "source": [
    "# 환경 테스트"
   ]
  },
  {
   "cell_type": "code",
   "execution_count": 1,
   "metadata": {
    "execution": {
     "iopub.execute_input": "2020-11-06T20:10:56.700054Z",
     "iopub.status.busy": "2020-11-06T20:10:56.699054Z",
     "iopub.status.idle": "2020-11-06T20:10:57.958255Z",
     "shell.execute_reply": "2020-11-06T20:10:57.956250Z",
     "shell.execute_reply.started": "2020-11-06T20:10:56.700054Z"
    }
   },
   "outputs": [],
   "source": [
    "import pandas as pd\n",
    "import sklearn\n",
    "import xgboost as xgb"
   ]
  },
  {
   "cell_type": "code",
   "execution_count": 2,
   "metadata": {
    "execution": {
     "iopub.execute_input": "2020-11-06T20:10:57.961249Z",
     "iopub.status.busy": "2020-11-06T20:10:57.960250Z",
     "iopub.status.idle": "2020-11-06T20:10:57.972248Z",
     "shell.execute_reply": "2020-11-06T20:10:57.971254Z",
     "shell.execute_reply.started": "2020-11-06T20:10:57.961249Z"
    }
   },
   "outputs": [
    {
     "name": "stdout",
     "output_type": "stream",
     "text": [
      "pandas 1.1.4\n",
      "sklearn 0.23.2\n",
      "xgboost 1.2.1\n"
     ]
    }
   ],
   "source": [
    "for package in [pd, sklearn, xgb]:\n",
    "    print(package.__name__, package.__version__)"
   ]
  }
 ],
 "metadata": {
  "kernelspec": {
   "display_name": "Python 3",
   "language": "python",
   "name": "python3"
  },
  "language_info": {
   "codemirror_mode": {
    "name": "ipython",
    "version": 3
   },
   "file_extension": ".py",
   "mimetype": "text/x-python",
   "name": "python",
   "nbconvert_exporter": "python",
   "pygments_lexer": "ipython3",
   "version": "3.9.0"
  },
  "toc-autonumbering": false
 },
 "nbformat": 4,
 "nbformat_minor": 4
}
