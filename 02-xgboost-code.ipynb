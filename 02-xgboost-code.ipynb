{
 "cells": [
  {
   "cell_type": "markdown",
   "metadata": {},
   "source": [
    "# XGBoost 분류 문제 예제"
   ]
  },
  {
   "cell_type": "code",
   "execution_count": 1,
   "metadata": {
    "execution": {
     "iopub.execute_input": "2021-05-09T15:58:07.504629Z",
     "iopub.status.busy": "2021-05-09T15:58:07.503632Z",
     "iopub.status.idle": "2021-05-09T15:58:09.713667Z",
     "shell.execute_reply": "2021-05-09T15:58:09.713667Z",
     "shell.execute_reply.started": "2021-05-09T15:58:07.504629Z"
    },
    "tags": []
   },
   "outputs": [],
   "source": [
    "from pathlib import Path\n",
    "\n",
    "import matplotlib as mpl\n",
    "import matplotlib.pyplot as plt\n",
    "import numpy as np\n",
    "import pandas as pd\n",
    "import requests\n",
    "import seaborn as sns\n",
    "import sklearn.metrics\n",
    "import sklearn.model_selection\n",
    "import xgboost as xgb\n",
    "from sklearn.model_selection import GridSearchCV\n",
    "from sklearn.pipeline import Pipeline\n",
    "from sklearn.preprocessing import FunctionTransformer, MinMaxScaler\n",
    "from xgboost import XGBClassifier\n",
    "\n",
    "%matplotlib inline\n",
    "%config InlineBackend.figure_formats = {\"png\", \"retina\"}\n",
    "mpl.rcParams[\"figure.constrained_layout.use\"] = True"
   ]
  },
  {
   "cell_type": "code",
   "execution_count": 2,
   "metadata": {
    "execution": {
     "iopub.execute_input": "2021-05-09T15:58:09.713667Z",
     "iopub.status.busy": "2021-05-09T15:58:09.713667Z",
     "iopub.status.idle": "2021-05-09T15:58:09.733755Z",
     "shell.execute_reply": "2021-05-09T15:58:09.733755Z",
     "shell.execute_reply.started": "2021-05-09T15:58:09.713667Z"
    },
    "tags": []
   },
   "outputs": [],
   "source": [
    "data_dir = Path() / \"data\"\n",
    "data_dir.mkdir(parents=True, exist_ok=True)"
   ]
  },
  {
   "cell_type": "markdown",
   "metadata": {},
   "source": [
    "## 데이터 준비\n",
    "\n",
    "[타이타닉 데이터셋](https://github.com/alexisperrier/packt-aml/blob/master/ch4/titanic.csv)을 이용합니다."
   ]
  },
  {
   "cell_type": "code",
   "execution_count": 3,
   "metadata": {
    "execution": {
     "iopub.execute_input": "2021-05-09T15:58:09.737283Z",
     "iopub.status.busy": "2021-05-09T15:58:09.733755Z",
     "iopub.status.idle": "2021-05-09T15:58:09.753910Z",
     "shell.execute_reply": "2021-05-09T15:58:09.753910Z",
     "shell.execute_reply.started": "2021-05-09T15:58:09.737283Z"
    },
    "tags": []
   },
   "outputs": [],
   "source": [
    "# Download and save the file\n",
    "titanic_path = data_dir / \"titanic.csv\"\n",
    "\n",
    "if not titanic_path.exists():\n",
    "    response = requests.get(\n",
    "        \"https://raw.githubusercontent.com/alexisperrier/packt-aml/master/ch4/titanic.csv\"\n",
    "    )\n",
    "    with open(titanic_path, \"wb\") as f:\n",
    "        f.write(response.content)"
   ]
  },
  {
   "cell_type": "code",
   "execution_count": 4,
   "metadata": {
    "execution": {
     "iopub.execute_input": "2021-05-09T15:58:09.753910Z",
     "iopub.status.busy": "2021-05-09T15:58:09.753910Z",
     "iopub.status.idle": "2021-05-09T15:58:09.813600Z",
     "shell.execute_reply": "2021-05-09T15:58:09.813600Z",
     "shell.execute_reply.started": "2021-05-09T15:58:09.753910Z"
    },
    "tags": []
   },
   "outputs": [
    {
     "data": {
      "text/html": [
       "<div>\n",
       "<style scoped>\n",
       "    .dataframe tbody tr th:only-of-type {\n",
       "        vertical-align: middle;\n",
       "    }\n",
       "\n",
       "    .dataframe tbody tr th {\n",
       "        vertical-align: top;\n",
       "    }\n",
       "\n",
       "    .dataframe thead th {\n",
       "        text-align: right;\n",
       "    }\n",
       "</style>\n",
       "<table border=\"1\" class=\"dataframe\">\n",
       "  <thead>\n",
       "    <tr style=\"text-align: right;\">\n",
       "      <th></th>\n",
       "      <th>pclass</th>\n",
       "      <th>survived</th>\n",
       "      <th>name</th>\n",
       "      <th>sex</th>\n",
       "      <th>age</th>\n",
       "      <th>sibsp</th>\n",
       "      <th>parch</th>\n",
       "      <th>ticket</th>\n",
       "      <th>fare</th>\n",
       "      <th>cabin</th>\n",
       "      <th>embarked</th>\n",
       "      <th>boat</th>\n",
       "      <th>body</th>\n",
       "      <th>home.dest</th>\n",
       "    </tr>\n",
       "  </thead>\n",
       "  <tbody>\n",
       "    <tr>\n",
       "      <th>0</th>\n",
       "      <td>3</td>\n",
       "      <td>0</td>\n",
       "      <td>Mahon Miss. Bridget Delia</td>\n",
       "      <td>female</td>\n",
       "      <td>NaN</td>\n",
       "      <td>0</td>\n",
       "      <td>0</td>\n",
       "      <td>330924</td>\n",
       "      <td>7.8792</td>\n",
       "      <td>NaN</td>\n",
       "      <td>Q</td>\n",
       "      <td>NaN</td>\n",
       "      <td>NaN</td>\n",
       "      <td>NaN</td>\n",
       "    </tr>\n",
       "    <tr>\n",
       "      <th>1</th>\n",
       "      <td>1</td>\n",
       "      <td>0</td>\n",
       "      <td>Clifford Mr. George Quincy</td>\n",
       "      <td>male</td>\n",
       "      <td>NaN</td>\n",
       "      <td>0</td>\n",
       "      <td>0</td>\n",
       "      <td>110465</td>\n",
       "      <td>52.0000</td>\n",
       "      <td>A14</td>\n",
       "      <td>S</td>\n",
       "      <td>NaN</td>\n",
       "      <td>NaN</td>\n",
       "      <td>Stoughton MA</td>\n",
       "    </tr>\n",
       "    <tr>\n",
       "      <th>2</th>\n",
       "      <td>3</td>\n",
       "      <td>0</td>\n",
       "      <td>Yasbeck Mr. Antoni</td>\n",
       "      <td>male</td>\n",
       "      <td>27.0</td>\n",
       "      <td>1</td>\n",
       "      <td>0</td>\n",
       "      <td>2659</td>\n",
       "      <td>14.4542</td>\n",
       "      <td>NaN</td>\n",
       "      <td>C</td>\n",
       "      <td>C</td>\n",
       "      <td>NaN</td>\n",
       "      <td>NaN</td>\n",
       "    </tr>\n",
       "    <tr>\n",
       "      <th>3</th>\n",
       "      <td>3</td>\n",
       "      <td>1</td>\n",
       "      <td>Tenglin Mr. Gunnar Isidor</td>\n",
       "      <td>male</td>\n",
       "      <td>25.0</td>\n",
       "      <td>0</td>\n",
       "      <td>0</td>\n",
       "      <td>350033</td>\n",
       "      <td>7.7958</td>\n",
       "      <td>NaN</td>\n",
       "      <td>S</td>\n",
       "      <td>13 15</td>\n",
       "      <td>NaN</td>\n",
       "      <td>NaN</td>\n",
       "    </tr>\n",
       "    <tr>\n",
       "      <th>4</th>\n",
       "      <td>3</td>\n",
       "      <td>0</td>\n",
       "      <td>Kelly Mr. James</td>\n",
       "      <td>male</td>\n",
       "      <td>34.5</td>\n",
       "      <td>0</td>\n",
       "      <td>0</td>\n",
       "      <td>330911</td>\n",
       "      <td>7.8292</td>\n",
       "      <td>NaN</td>\n",
       "      <td>Q</td>\n",
       "      <td>NaN</td>\n",
       "      <td>70.0</td>\n",
       "      <td>NaN</td>\n",
       "    </tr>\n",
       "    <tr>\n",
       "      <th>...</th>\n",
       "      <td>...</td>\n",
       "      <td>...</td>\n",
       "      <td>...</td>\n",
       "      <td>...</td>\n",
       "      <td>...</td>\n",
       "      <td>...</td>\n",
       "      <td>...</td>\n",
       "      <td>...</td>\n",
       "      <td>...</td>\n",
       "      <td>...</td>\n",
       "      <td>...</td>\n",
       "      <td>...</td>\n",
       "      <td>...</td>\n",
       "      <td>...</td>\n",
       "    </tr>\n",
       "    <tr>\n",
       "      <th>1304</th>\n",
       "      <td>3</td>\n",
       "      <td>0</td>\n",
       "      <td>Rice Master. Eugene</td>\n",
       "      <td>male</td>\n",
       "      <td>2.0</td>\n",
       "      <td>4</td>\n",
       "      <td>1</td>\n",
       "      <td>382652</td>\n",
       "      <td>29.1250</td>\n",
       "      <td>NaN</td>\n",
       "      <td>Q</td>\n",
       "      <td>NaN</td>\n",
       "      <td>NaN</td>\n",
       "      <td>NaN</td>\n",
       "    </tr>\n",
       "    <tr>\n",
       "      <th>1305</th>\n",
       "      <td>3</td>\n",
       "      <td>0</td>\n",
       "      <td>Dika Mr. Mirko</td>\n",
       "      <td>male</td>\n",
       "      <td>17.0</td>\n",
       "      <td>0</td>\n",
       "      <td>0</td>\n",
       "      <td>349232</td>\n",
       "      <td>7.8958</td>\n",
       "      <td>NaN</td>\n",
       "      <td>S</td>\n",
       "      <td>NaN</td>\n",
       "      <td>NaN</td>\n",
       "      <td>NaN</td>\n",
       "    </tr>\n",
       "    <tr>\n",
       "      <th>1306</th>\n",
       "      <td>3</td>\n",
       "      <td>0</td>\n",
       "      <td>Palsson Miss. Torborg Danira</td>\n",
       "      <td>female</td>\n",
       "      <td>8.0</td>\n",
       "      <td>3</td>\n",
       "      <td>1</td>\n",
       "      <td>349909</td>\n",
       "      <td>21.0750</td>\n",
       "      <td>NaN</td>\n",
       "      <td>S</td>\n",
       "      <td>NaN</td>\n",
       "      <td>NaN</td>\n",
       "      <td>NaN</td>\n",
       "    </tr>\n",
       "    <tr>\n",
       "      <th>1307</th>\n",
       "      <td>1</td>\n",
       "      <td>0</td>\n",
       "      <td>Widener Mr. George Dunton</td>\n",
       "      <td>male</td>\n",
       "      <td>50.0</td>\n",
       "      <td>1</td>\n",
       "      <td>1</td>\n",
       "      <td>113503</td>\n",
       "      <td>211.5000</td>\n",
       "      <td>C80</td>\n",
       "      <td>C</td>\n",
       "      <td>NaN</td>\n",
       "      <td>NaN</td>\n",
       "      <td>Elkins Park PA</td>\n",
       "    </tr>\n",
       "    <tr>\n",
       "      <th>1308</th>\n",
       "      <td>3</td>\n",
       "      <td>1</td>\n",
       "      <td>Riordan Miss. Johanna Hannah</td>\n",
       "      <td>female</td>\n",
       "      <td>NaN</td>\n",
       "      <td>0</td>\n",
       "      <td>0</td>\n",
       "      <td>334915</td>\n",
       "      <td>7.7208</td>\n",
       "      <td>NaN</td>\n",
       "      <td>Q</td>\n",
       "      <td>13</td>\n",
       "      <td>NaN</td>\n",
       "      <td>NaN</td>\n",
       "    </tr>\n",
       "  </tbody>\n",
       "</table>\n",
       "<p>1309 rows × 14 columns</p>\n",
       "</div>"
      ],
      "text/plain": [
       "      pclass  survived                          name     sex   age  sibsp  \\\n",
       "0          3         0     Mahon Miss. Bridget Delia  female   NaN      0   \n",
       "1          1         0    Clifford Mr. George Quincy    male   NaN      0   \n",
       "2          3         0            Yasbeck Mr. Antoni    male  27.0      1   \n",
       "3          3         1     Tenglin Mr. Gunnar Isidor    male  25.0      0   \n",
       "4          3         0               Kelly Mr. James    male  34.5      0   \n",
       "...      ...       ...                           ...     ...   ...    ...   \n",
       "1304       3         0           Rice Master. Eugene    male   2.0      4   \n",
       "1305       3         0                Dika Mr. Mirko    male  17.0      0   \n",
       "1306       3         0  Palsson Miss. Torborg Danira  female   8.0      3   \n",
       "1307       1         0     Widener Mr. George Dunton    male  50.0      1   \n",
       "1308       3         1  Riordan Miss. Johanna Hannah  female   NaN      0   \n",
       "\n",
       "      parch  ticket      fare cabin embarked   boat  body       home.dest  \n",
       "0         0  330924    7.8792   NaN        Q    NaN   NaN             NaN  \n",
       "1         0  110465   52.0000   A14        S    NaN   NaN    Stoughton MA  \n",
       "2         0    2659   14.4542   NaN        C      C   NaN             NaN  \n",
       "3         0  350033    7.7958   NaN        S  13 15   NaN             NaN  \n",
       "4         0  330911    7.8292   NaN        Q    NaN  70.0             NaN  \n",
       "...     ...     ...       ...   ...      ...    ...   ...             ...  \n",
       "1304      1  382652   29.1250   NaN        Q    NaN   NaN             NaN  \n",
       "1305      0  349232    7.8958   NaN        S    NaN   NaN             NaN  \n",
       "1306      1  349909   21.0750   NaN        S    NaN   NaN             NaN  \n",
       "1307      1  113503  211.5000   C80        C    NaN   NaN  Elkins Park PA  \n",
       "1308      0  334915    7.7208   NaN        Q     13   NaN             NaN  \n",
       "\n",
       "[1309 rows x 14 columns]"
      ]
     },
     "execution_count": 4,
     "metadata": {},
     "output_type": "execute_result"
    }
   ],
   "source": [
    "titanic_temp = pd.read_csv(titanic_path)\n",
    "\n",
    "titanic_temp"
   ]
  },
  {
   "cell_type": "code",
   "execution_count": 5,
   "metadata": {
    "execution": {
     "iopub.execute_input": "2021-05-09T15:58:09.813600Z",
     "iopub.status.busy": "2021-05-09T15:58:09.813600Z",
     "iopub.status.idle": "2021-05-09T15:58:09.843909Z",
     "shell.execute_reply": "2021-05-09T15:58:09.843909Z",
     "shell.execute_reply.started": "2021-05-09T15:58:09.813600Z"
    },
    "tags": []
   },
   "outputs": [
    {
     "name": "stdout",
     "output_type": "stream",
     "text": [
      "<class 'pandas.core.frame.DataFrame'>\n",
      "RangeIndex: 1309 entries, 0 to 1308\n",
      "Data columns (total 14 columns):\n",
      " #   Column     Non-Null Count  Dtype  \n",
      "---  ------     --------------  -----  \n",
      " 0   pclass     1309 non-null   int64  \n",
      " 1   survived   1309 non-null   int64  \n",
      " 2   name       1309 non-null   object \n",
      " 3   sex        1309 non-null   object \n",
      " 4   age        1046 non-null   float64\n",
      " 5   sibsp      1309 non-null   int64  \n",
      " 6   parch      1309 non-null   int64  \n",
      " 7   ticket     1309 non-null   object \n",
      " 8   fare       1308 non-null   float64\n",
      " 9   cabin      295 non-null    object \n",
      " 10  embarked   1307 non-null   object \n",
      " 11  boat       486 non-null    object \n",
      " 12  body       121 non-null    float64\n",
      " 13  home.dest  745 non-null    object \n",
      "dtypes: float64(3), int64(4), object(7)\n",
      "memory usage: 143.3+ KB\n"
     ]
    }
   ],
   "source": [
    "titanic_temp.info()"
   ]
  },
  {
   "cell_type": "code",
   "execution_count": 6,
   "metadata": {
    "execution": {
     "iopub.execute_input": "2021-05-09T15:58:09.843909Z",
     "iopub.status.busy": "2021-05-09T15:58:09.843909Z",
     "iopub.status.idle": "2021-05-09T15:58:09.898788Z",
     "shell.execute_reply": "2021-05-09T15:58:09.898788Z",
     "shell.execute_reply.started": "2021-05-09T15:58:09.843909Z"
    },
    "tags": []
   },
   "outputs": [
    {
     "data": {
      "text/html": [
       "<div>\n",
       "<style scoped>\n",
       "    .dataframe tbody tr th:only-of-type {\n",
       "        vertical-align: middle;\n",
       "    }\n",
       "\n",
       "    .dataframe tbody tr th {\n",
       "        vertical-align: top;\n",
       "    }\n",
       "\n",
       "    .dataframe thead th {\n",
       "        text-align: right;\n",
       "    }\n",
       "</style>\n",
       "<table border=\"1\" class=\"dataframe\">\n",
       "  <thead>\n",
       "    <tr style=\"text-align: right;\">\n",
       "      <th></th>\n",
       "      <th>pclass</th>\n",
       "      <th>survived</th>\n",
       "      <th>age</th>\n",
       "      <th>sibsp</th>\n",
       "      <th>parch</th>\n",
       "      <th>fare</th>\n",
       "      <th>body</th>\n",
       "    </tr>\n",
       "  </thead>\n",
       "  <tbody>\n",
       "    <tr>\n",
       "      <th>count</th>\n",
       "      <td>1309.000000</td>\n",
       "      <td>1309.000000</td>\n",
       "      <td>1046.000000</td>\n",
       "      <td>1309.000000</td>\n",
       "      <td>1309.000000</td>\n",
       "      <td>1308.000000</td>\n",
       "      <td>121.000000</td>\n",
       "    </tr>\n",
       "    <tr>\n",
       "      <th>mean</th>\n",
       "      <td>2.294882</td>\n",
       "      <td>0.381971</td>\n",
       "      <td>29.881138</td>\n",
       "      <td>0.498854</td>\n",
       "      <td>0.385027</td>\n",
       "      <td>33.295479</td>\n",
       "      <td>160.809917</td>\n",
       "    </tr>\n",
       "    <tr>\n",
       "      <th>std</th>\n",
       "      <td>0.837836</td>\n",
       "      <td>0.486055</td>\n",
       "      <td>14.413493</td>\n",
       "      <td>1.041658</td>\n",
       "      <td>0.865560</td>\n",
       "      <td>51.758668</td>\n",
       "      <td>97.696922</td>\n",
       "    </tr>\n",
       "    <tr>\n",
       "      <th>min</th>\n",
       "      <td>1.000000</td>\n",
       "      <td>0.000000</td>\n",
       "      <td>0.170000</td>\n",
       "      <td>0.000000</td>\n",
       "      <td>0.000000</td>\n",
       "      <td>0.000000</td>\n",
       "      <td>1.000000</td>\n",
       "    </tr>\n",
       "    <tr>\n",
       "      <th>25%</th>\n",
       "      <td>2.000000</td>\n",
       "      <td>0.000000</td>\n",
       "      <td>21.000000</td>\n",
       "      <td>0.000000</td>\n",
       "      <td>0.000000</td>\n",
       "      <td>7.895800</td>\n",
       "      <td>72.000000</td>\n",
       "    </tr>\n",
       "    <tr>\n",
       "      <th>50%</th>\n",
       "      <td>3.000000</td>\n",
       "      <td>0.000000</td>\n",
       "      <td>28.000000</td>\n",
       "      <td>0.000000</td>\n",
       "      <td>0.000000</td>\n",
       "      <td>14.454200</td>\n",
       "      <td>155.000000</td>\n",
       "    </tr>\n",
       "    <tr>\n",
       "      <th>75%</th>\n",
       "      <td>3.000000</td>\n",
       "      <td>1.000000</td>\n",
       "      <td>39.000000</td>\n",
       "      <td>1.000000</td>\n",
       "      <td>0.000000</td>\n",
       "      <td>31.275000</td>\n",
       "      <td>256.000000</td>\n",
       "    </tr>\n",
       "    <tr>\n",
       "      <th>max</th>\n",
       "      <td>3.000000</td>\n",
       "      <td>1.000000</td>\n",
       "      <td>80.000000</td>\n",
       "      <td>8.000000</td>\n",
       "      <td>9.000000</td>\n",
       "      <td>512.329200</td>\n",
       "      <td>328.000000</td>\n",
       "    </tr>\n",
       "  </tbody>\n",
       "</table>\n",
       "</div>"
      ],
      "text/plain": [
       "            pclass     survived          age        sibsp        parch  \\\n",
       "count  1309.000000  1309.000000  1046.000000  1309.000000  1309.000000   \n",
       "mean      2.294882     0.381971    29.881138     0.498854     0.385027   \n",
       "std       0.837836     0.486055    14.413493     1.041658     0.865560   \n",
       "min       1.000000     0.000000     0.170000     0.000000     0.000000   \n",
       "25%       2.000000     0.000000    21.000000     0.000000     0.000000   \n",
       "50%       3.000000     0.000000    28.000000     0.000000     0.000000   \n",
       "75%       3.000000     1.000000    39.000000     1.000000     0.000000   \n",
       "max       3.000000     1.000000    80.000000     8.000000     9.000000   \n",
       "\n",
       "              fare        body  \n",
       "count  1308.000000  121.000000  \n",
       "mean     33.295479  160.809917  \n",
       "std      51.758668   97.696922  \n",
       "min       0.000000    1.000000  \n",
       "25%       7.895800   72.000000  \n",
       "50%      14.454200  155.000000  \n",
       "75%      31.275000  256.000000  \n",
       "max     512.329200  328.000000  "
      ]
     },
     "execution_count": 6,
     "metadata": {},
     "output_type": "execute_result"
    }
   ],
   "source": [
    "titanic_temp.describe()"
   ]
  },
  {
   "cell_type": "markdown",
   "metadata": {},
   "source": [
    "데이터를 살펴봅니다."
   ]
  },
  {
   "cell_type": "code",
   "execution_count": 7,
   "metadata": {
    "execution": {
     "iopub.execute_input": "2021-05-09T15:58:09.898788Z",
     "iopub.status.busy": "2021-05-09T15:58:09.898788Z",
     "iopub.status.idle": "2021-05-09T15:58:10.203786Z",
     "shell.execute_reply": "2021-05-09T15:58:10.203786Z",
     "shell.execute_reply.started": "2021-05-09T15:58:09.898788Z"
    },
    "tags": []
   },
   "outputs": [
    {
     "data": {
      "image/png": "[encoded data removed]",
      "text/plain": [
       "<Figure size 432x288 with 1 Axes>"
      ]
     },
     "metadata": {
      "image/png": {
       "height": 296,
       "width": 440
      },
      "needs_background": "light"
     },
     "output_type": "display_data"
    }
   ],
   "source": [
    "fig, ax = plt.subplots()\n",
    "\n",
    "sns.countplot(x=\"pclass\", data=titanic_temp, ax=ax)\n",
    "pass"
   ]
  },
  {
   "cell_type": "code",
   "execution_count": 8,
   "metadata": {
    "execution": {
     "iopub.execute_input": "2021-05-09T15:58:10.203786Z",
     "iopub.status.busy": "2021-05-09T15:58:10.203786Z",
     "iopub.status.idle": "2021-05-09T15:58:10.414030Z",
     "shell.execute_reply": "2021-05-09T15:58:10.414030Z",
     "shell.execute_reply.started": "2021-05-09T15:58:10.203786Z"
    },
    "tags": []
   },
   "outputs": [
    {
     "data": {
      "image/png": "[encoded data removed]",
      "text/plain": [
       "<Figure size 432x288 with 1 Axes>"
      ]
     },
     "metadata": {
      "image/png": {
       "height": 296,
       "width": 440
      },
      "needs_background": "light"
     },
     "output_type": "display_data"
    }
   ],
   "source": [
    "fig, ax = plt.subplots()\n",
    "\n",
    "sns.countplot(x=\"sex\", data=titanic_temp, ax=ax)\n",
    "pass"
   ]
  },
  {
   "cell_type": "code",
   "execution_count": 9,
   "metadata": {
    "execution": {
     "iopub.execute_input": "2021-05-09T15:58:10.414030Z",
     "iopub.status.busy": "2021-05-09T15:58:10.414030Z",
     "iopub.status.idle": "2021-05-09T15:58:10.733740Z",
     "shell.execute_reply": "2021-05-09T15:58:10.733740Z",
     "shell.execute_reply.started": "2021-05-09T15:58:10.414030Z"
    },
    "tags": []
   },
   "outputs": [
    {
     "data": {
      "image/png": "[encoded data removed]",
      "text/plain": [
       "<Figure size 432x288 with 1 Axes>"
      ]
     },
     "metadata": {
      "image/png": {
       "height": 296,
       "width": 440
      },
      "needs_background": "light"
     },
     "output_type": "display_data"
    }
   ],
   "source": [
    "fig, ax = plt.subplots()\n",
    "\n",
    "sns.histplot(x=\"age\", data=titanic_temp)\n",
    "pass"
   ]
  },
  {
   "cell_type": "code",
   "execution_count": 10,
   "metadata": {
    "execution": {
     "iopub.execute_input": "2021-05-09T15:58:10.733740Z",
     "iopub.status.busy": "2021-05-09T15:58:10.733740Z",
     "iopub.status.idle": "2021-05-09T15:58:10.753947Z",
     "shell.execute_reply": "2021-05-09T15:58:10.753947Z",
     "shell.execute_reply.started": "2021-05-09T15:58:10.733740Z"
    }
   },
   "outputs": [
    {
     "data": {
      "text/plain": [
       "pclass          0\n",
       "survived        0\n",
       "name            0\n",
       "sex             0\n",
       "age           263\n",
       "sibsp           0\n",
       "parch           0\n",
       "ticket          0\n",
       "fare            1\n",
       "cabin        1014\n",
       "embarked        2\n",
       "boat          823\n",
       "body         1188\n",
       "home.dest     564\n",
       "dtype: int64"
      ]
     },
     "execution_count": 10,
     "metadata": {},
     "output_type": "execute_result"
    }
   ],
   "source": [
    "titanic_temp.isna().sum()"
   ]
  },
  {
   "cell_type": "markdown",
   "metadata": {},
   "source": [
    "피처 중 `fare`와 `embarked`는 결손치가 각각 1개, 2개가 있는데, 결손치가 있는 데이터는 아예 제외하겠습니다.\n",
    "`age`에는 결손치가 많이 있고, 따로 처리하지 않고 그대로 사용합니다."
   ]
  },
  {
   "cell_type": "code",
   "execution_count": 11,
   "metadata": {
    "execution": {
     "iopub.execute_input": "2021-05-09T15:58:10.753947Z",
     "iopub.status.busy": "2021-05-09T15:58:10.753947Z",
     "iopub.status.idle": "2021-05-09T15:58:10.774036Z",
     "shell.execute_reply": "2021-05-09T15:58:10.774036Z",
     "shell.execute_reply.started": "2021-05-09T15:58:10.753947Z"
    },
    "tags": []
   },
   "outputs": [],
   "source": [
    "numeric_feature_names = [\"age\", \"sibsp\", \"parch\", \"fare\"]\n",
    "categorical_feature_names = [\"pclass\", \"sex\", \"embarked\"]\n",
    "feature_names = numeric_feature_names + categorical_feature_names\n",
    "target_name = \"survived\""
   ]
  },
  {
   "cell_type": "code",
   "execution_count": 12,
   "metadata": {
    "execution": {
     "iopub.execute_input": "2021-05-09T15:58:10.774036Z",
     "iopub.status.busy": "2021-05-09T15:58:10.774036Z",
     "iopub.status.idle": "2021-05-09T15:58:10.828910Z",
     "shell.execute_reply": "2021-05-09T15:58:10.828910Z",
     "shell.execute_reply.started": "2021-05-09T15:58:10.774036Z"
    },
    "tags": []
   },
   "outputs": [
    {
     "name": "stdout",
     "output_type": "stream",
     "text": [
      "<class 'pandas.core.frame.DataFrame'>\n",
      "RangeIndex: 1306 entries, 0 to 1305\n",
      "Data columns (total 8 columns):\n",
      " #   Column    Non-Null Count  Dtype   \n",
      "---  ------    --------------  -----   \n",
      " 0   age       1043 non-null   float64 \n",
      " 1   sibsp     1306 non-null   int64   \n",
      " 2   parch     1306 non-null   int64   \n",
      " 3   fare      1306 non-null   float64 \n",
      " 4   pclass    1306 non-null   category\n",
      " 5   sex       1306 non-null   category\n",
      " 6   embarked  1306 non-null   category\n",
      " 7   survived  1306 non-null   int64   \n",
      "dtypes: category(3), float64(2), int64(3)\n",
      "memory usage: 55.2 KB\n"
     ]
    },
    {
     "data": {
      "text/html": [
       "<div>\n",
       "<style scoped>\n",
       "    .dataframe tbody tr th:only-of-type {\n",
       "        vertical-align: middle;\n",
       "    }\n",
       "\n",
       "    .dataframe tbody tr th {\n",
       "        vertical-align: top;\n",
       "    }\n",
       "\n",
       "    .dataframe thead th {\n",
       "        text-align: right;\n",
       "    }\n",
       "</style>\n",
       "<table border=\"1\" class=\"dataframe\">\n",
       "  <thead>\n",
       "    <tr style=\"text-align: right;\">\n",
       "      <th></th>\n",
       "      <th>age</th>\n",
       "      <th>sibsp</th>\n",
       "      <th>parch</th>\n",
       "      <th>fare</th>\n",
       "      <th>pclass</th>\n",
       "      <th>sex</th>\n",
       "      <th>embarked</th>\n",
       "      <th>survived</th>\n",
       "    </tr>\n",
       "  </thead>\n",
       "  <tbody>\n",
       "    <tr>\n",
       "      <th>0</th>\n",
       "      <td>NaN</td>\n",
       "      <td>0</td>\n",
       "      <td>0</td>\n",
       "      <td>7.8792</td>\n",
       "      <td>3</td>\n",
       "      <td>female</td>\n",
       "      <td>Q</td>\n",
       "      <td>0</td>\n",
       "    </tr>\n",
       "    <tr>\n",
       "      <th>1</th>\n",
       "      <td>NaN</td>\n",
       "      <td>0</td>\n",
       "      <td>0</td>\n",
       "      <td>52.0000</td>\n",
       "      <td>1</td>\n",
       "      <td>male</td>\n",
       "      <td>S</td>\n",
       "      <td>0</td>\n",
       "    </tr>\n",
       "    <tr>\n",
       "      <th>2</th>\n",
       "      <td>27.0</td>\n",
       "      <td>1</td>\n",
       "      <td>0</td>\n",
       "      <td>14.4542</td>\n",
       "      <td>3</td>\n",
       "      <td>male</td>\n",
       "      <td>C</td>\n",
       "      <td>0</td>\n",
       "    </tr>\n",
       "    <tr>\n",
       "      <th>3</th>\n",
       "      <td>25.0</td>\n",
       "      <td>0</td>\n",
       "      <td>0</td>\n",
       "      <td>7.7958</td>\n",
       "      <td>3</td>\n",
       "      <td>male</td>\n",
       "      <td>S</td>\n",
       "      <td>1</td>\n",
       "    </tr>\n",
       "    <tr>\n",
       "      <th>4</th>\n",
       "      <td>34.5</td>\n",
       "      <td>0</td>\n",
       "      <td>0</td>\n",
       "      <td>7.8292</td>\n",
       "      <td>3</td>\n",
       "      <td>male</td>\n",
       "      <td>Q</td>\n",
       "      <td>0</td>\n",
       "    </tr>\n",
       "  </tbody>\n",
       "</table>\n",
       "</div>"
      ],
      "text/plain": [
       "    age  sibsp  parch     fare pclass     sex embarked  survived\n",
       "0   NaN      0      0   7.8792      3  female        Q         0\n",
       "1   NaN      0      0  52.0000      1    male        S         0\n",
       "2  27.0      1      0  14.4542      3    male        C         0\n",
       "3  25.0      0      0   7.7958      3    male        S         1\n",
       "4  34.5      0      0   7.8292      3    male        Q         0"
      ]
     },
     "execution_count": 12,
     "metadata": {},
     "output_type": "execute_result"
    }
   ],
   "source": [
    "titanic_raw = (\n",
    "    pd.read_csv(\n",
    "        titanic_path,\n",
    "        usecols=(feature_names + [target_name]),\n",
    "        dtype={**{k: \"category\" for k in categorical_feature_names}},\n",
    "    )\n",
    "    .dropna(subset=[\"fare\", \"embarked\"])\n",
    "    .reset_index(drop=True)\n",
    "    .reindex(columns=(feature_names + [target_name]))\n",
    ")\n",
    "\n",
    "titanic_raw.info()\n",
    "titanic_raw.head()"
   ]
  },
  {
   "cell_type": "markdown",
   "metadata": {},
   "source": [
    "피처의 타입별로 데이터를 확인할 수 있습니다."
   ]
  },
  {
   "cell_type": "code",
   "execution_count": 13,
   "metadata": {
    "execution": {
     "iopub.execute_input": "2021-05-09T15:58:10.828910Z",
     "iopub.status.busy": "2021-05-09T15:58:10.828910Z",
     "iopub.status.idle": "2021-05-09T15:58:10.868641Z",
     "shell.execute_reply": "2021-05-09T15:58:10.868641Z",
     "shell.execute_reply.started": "2021-05-09T15:58:10.828910Z"
    },
    "tags": []
   },
   "outputs": [
    {
     "data": {
      "text/html": [
       "<div>\n",
       "<style scoped>\n",
       "    .dataframe tbody tr th:only-of-type {\n",
       "        vertical-align: middle;\n",
       "    }\n",
       "\n",
       "    .dataframe tbody tr th {\n",
       "        vertical-align: top;\n",
       "    }\n",
       "\n",
       "    .dataframe thead th {\n",
       "        text-align: right;\n",
       "    }\n",
       "</style>\n",
       "<table border=\"1\" class=\"dataframe\">\n",
       "  <thead>\n",
       "    <tr style=\"text-align: right;\">\n",
       "      <th></th>\n",
       "      <th>age</th>\n",
       "      <th>sibsp</th>\n",
       "      <th>parch</th>\n",
       "      <th>fare</th>\n",
       "      <th>survived</th>\n",
       "    </tr>\n",
       "  </thead>\n",
       "  <tbody>\n",
       "    <tr>\n",
       "      <th>0</th>\n",
       "      <td>NaN</td>\n",
       "      <td>0</td>\n",
       "      <td>0</td>\n",
       "      <td>7.8792</td>\n",
       "      <td>0</td>\n",
       "    </tr>\n",
       "    <tr>\n",
       "      <th>1</th>\n",
       "      <td>NaN</td>\n",
       "      <td>0</td>\n",
       "      <td>0</td>\n",
       "      <td>52.0000</td>\n",
       "      <td>0</td>\n",
       "    </tr>\n",
       "    <tr>\n",
       "      <th>2</th>\n",
       "      <td>27.0</td>\n",
       "      <td>1</td>\n",
       "      <td>0</td>\n",
       "      <td>14.4542</td>\n",
       "      <td>0</td>\n",
       "    </tr>\n",
       "    <tr>\n",
       "      <th>3</th>\n",
       "      <td>25.0</td>\n",
       "      <td>0</td>\n",
       "      <td>0</td>\n",
       "      <td>7.7958</td>\n",
       "      <td>1</td>\n",
       "    </tr>\n",
       "    <tr>\n",
       "      <th>4</th>\n",
       "      <td>34.5</td>\n",
       "      <td>0</td>\n",
       "      <td>0</td>\n",
       "      <td>7.8292</td>\n",
       "      <td>0</td>\n",
       "    </tr>\n",
       "    <tr>\n",
       "      <th>...</th>\n",
       "      <td>...</td>\n",
       "      <td>...</td>\n",
       "      <td>...</td>\n",
       "      <td>...</td>\n",
       "      <td>...</td>\n",
       "    </tr>\n",
       "    <tr>\n",
       "      <th>1301</th>\n",
       "      <td>2.0</td>\n",
       "      <td>4</td>\n",
       "      <td>1</td>\n",
       "      <td>29.1250</td>\n",
       "      <td>0</td>\n",
       "    </tr>\n",
       "    <tr>\n",
       "      <th>1302</th>\n",
       "      <td>17.0</td>\n",
       "      <td>0</td>\n",
       "      <td>0</td>\n",
       "      <td>7.8958</td>\n",
       "      <td>0</td>\n",
       "    </tr>\n",
       "    <tr>\n",
       "      <th>1303</th>\n",
       "      <td>8.0</td>\n",
       "      <td>3</td>\n",
       "      <td>1</td>\n",
       "      <td>21.0750</td>\n",
       "      <td>0</td>\n",
       "    </tr>\n",
       "    <tr>\n",
       "      <th>1304</th>\n",
       "      <td>50.0</td>\n",
       "      <td>1</td>\n",
       "      <td>1</td>\n",
       "      <td>211.5000</td>\n",
       "      <td>0</td>\n",
       "    </tr>\n",
       "    <tr>\n",
       "      <th>1305</th>\n",
       "      <td>NaN</td>\n",
       "      <td>0</td>\n",
       "      <td>0</td>\n",
       "      <td>7.7208</td>\n",
       "      <td>1</td>\n",
       "    </tr>\n",
       "  </tbody>\n",
       "</table>\n",
       "<p>1306 rows × 5 columns</p>\n",
       "</div>"
      ],
      "text/plain": [
       "       age  sibsp  parch      fare  survived\n",
       "0      NaN      0      0    7.8792         0\n",
       "1      NaN      0      0   52.0000         0\n",
       "2     27.0      1      0   14.4542         0\n",
       "3     25.0      0      0    7.7958         1\n",
       "4     34.5      0      0    7.8292         0\n",
       "...    ...    ...    ...       ...       ...\n",
       "1301   2.0      4      1   29.1250         0\n",
       "1302  17.0      0      0    7.8958         0\n",
       "1303   8.0      3      1   21.0750         0\n",
       "1304  50.0      1      1  211.5000         0\n",
       "1305   NaN      0      0    7.7208         1\n",
       "\n",
       "[1306 rows x 5 columns]"
      ]
     },
     "execution_count": 13,
     "metadata": {},
     "output_type": "execute_result"
    }
   ],
   "source": [
    "titanic_raw.select_dtypes(\"number\")"
   ]
  },
  {
   "cell_type": "code",
   "execution_count": 14,
   "metadata": {
    "execution": {
     "iopub.execute_input": "2021-05-09T15:58:10.868641Z",
     "iopub.status.busy": "2021-05-09T15:58:10.868641Z",
     "iopub.status.idle": "2021-05-09T15:58:10.906636Z",
     "shell.execute_reply": "2021-05-09T15:58:10.904633Z",
     "shell.execute_reply.started": "2021-05-09T15:58:10.868641Z"
    },
    "tags": []
   },
   "outputs": [
    {
     "data": {
      "text/html": [
       "<div>\n",
       "<style scoped>\n",
       "    .dataframe tbody tr th:only-of-type {\n",
       "        vertical-align: middle;\n",
       "    }\n",
       "\n",
       "    .dataframe tbody tr th {\n",
       "        vertical-align: top;\n",
       "    }\n",
       "\n",
       "    .dataframe thead th {\n",
       "        text-align: right;\n",
       "    }\n",
       "</style>\n",
       "<table border=\"1\" class=\"dataframe\">\n",
       "  <thead>\n",
       "    <tr style=\"text-align: right;\">\n",
       "      <th></th>\n",
       "      <th>pclass</th>\n",
       "      <th>sex</th>\n",
       "      <th>embarked</th>\n",
       "    </tr>\n",
       "  </thead>\n",
       "  <tbody>\n",
       "    <tr>\n",
       "      <th>0</th>\n",
       "      <td>3</td>\n",
       "      <td>female</td>\n",
       "      <td>Q</td>\n",
       "    </tr>\n",
       "    <tr>\n",
       "      <th>1</th>\n",
       "      <td>1</td>\n",
       "      <td>male</td>\n",
       "      <td>S</td>\n",
       "    </tr>\n",
       "    <tr>\n",
       "      <th>2</th>\n",
       "      <td>3</td>\n",
       "      <td>male</td>\n",
       "      <td>C</td>\n",
       "    </tr>\n",
       "    <tr>\n",
       "      <th>3</th>\n",
       "      <td>3</td>\n",
       "      <td>male</td>\n",
       "      <td>S</td>\n",
       "    </tr>\n",
       "    <tr>\n",
       "      <th>4</th>\n",
       "      <td>3</td>\n",
       "      <td>male</td>\n",
       "      <td>Q</td>\n",
       "    </tr>\n",
       "    <tr>\n",
       "      <th>...</th>\n",
       "      <td>...</td>\n",
       "      <td>...</td>\n",
       "      <td>...</td>\n",
       "    </tr>\n",
       "    <tr>\n",
       "      <th>1301</th>\n",
       "      <td>3</td>\n",
       "      <td>male</td>\n",
       "      <td>Q</td>\n",
       "    </tr>\n",
       "    <tr>\n",
       "      <th>1302</th>\n",
       "      <td>3</td>\n",
       "      <td>male</td>\n",
       "      <td>S</td>\n",
       "    </tr>\n",
       "    <tr>\n",
       "      <th>1303</th>\n",
       "      <td>3</td>\n",
       "      <td>female</td>\n",
       "      <td>S</td>\n",
       "    </tr>\n",
       "    <tr>\n",
       "      <th>1304</th>\n",
       "      <td>1</td>\n",
       "      <td>male</td>\n",
       "      <td>C</td>\n",
       "    </tr>\n",
       "    <tr>\n",
       "      <th>1305</th>\n",
       "      <td>3</td>\n",
       "      <td>female</td>\n",
       "      <td>Q</td>\n",
       "    </tr>\n",
       "  </tbody>\n",
       "</table>\n",
       "<p>1306 rows × 3 columns</p>\n",
       "</div>"
      ],
      "text/plain": [
       "     pclass     sex embarked\n",
       "0         3  female        Q\n",
       "1         1    male        S\n",
       "2         3    male        C\n",
       "3         3    male        S\n",
       "4         3    male        Q\n",
       "...     ...     ...      ...\n",
       "1301      3    male        Q\n",
       "1302      3    male        S\n",
       "1303      3  female        S\n",
       "1304      1    male        C\n",
       "1305      3  female        Q\n",
       "\n",
       "[1306 rows x 3 columns]"
      ]
     },
     "execution_count": 14,
     "metadata": {},
     "output_type": "execute_result"
    }
   ],
   "source": [
    "titanic_raw.select_dtypes(\"category\")"
   ]
  },
  {
   "cell_type": "markdown",
   "metadata": {},
   "source": [
    "카테고리를 확인합니다."
   ]
  },
  {
   "cell_type": "code",
   "execution_count": 15,
   "metadata": {
    "execution": {
     "iopub.execute_input": "2021-05-09T15:58:10.908650Z",
     "iopub.status.busy": "2021-05-09T15:58:10.907635Z",
     "iopub.status.idle": "2021-05-09T15:58:10.921633Z",
     "shell.execute_reply": "2021-05-09T15:58:10.920631Z",
     "shell.execute_reply.started": "2021-05-09T15:58:10.908650Z"
    },
    "tags": []
   },
   "outputs": [
    {
     "name": "stdout",
     "output_type": "stream",
     "text": [
      "pclass Index(['1', '2', '3'], dtype='object')\n",
      "sex Index(['female', 'male'], dtype='object')\n",
      "embarked Index(['C', 'Q', 'S'], dtype='object')\n"
     ]
    }
   ],
   "source": [
    "for c, series in titanic_raw.select_dtypes(\"category\").items():\n",
    "    print(c, series.cat.categories)"
   ]
  },
  {
   "cell_type": "markdown",
   "metadata": {},
   "source": [
    "학습 세트와 평가 세트로 분할합니다."
   ]
  },
  {
   "cell_type": "code",
   "execution_count": 16,
   "metadata": {
    "execution": {
     "iopub.execute_input": "2021-05-09T15:58:10.924635Z",
     "iopub.status.busy": "2021-05-09T15:58:10.924635Z",
     "iopub.status.idle": "2021-05-09T15:58:10.938273Z",
     "shell.execute_reply": "2021-05-09T15:58:10.938273Z",
     "shell.execute_reply.started": "2021-05-09T15:58:10.924635Z"
    },
    "tags": []
   },
   "outputs": [],
   "source": [
    "random_seed = 78  # for reproducibility\n",
    "\n",
    "(\n",
    "    x_train_raw,\n",
    "    x_test_raw,\n",
    "    y_train_raw,\n",
    "    y_test_raw,\n",
    ") = sklearn.model_selection.train_test_split(\n",
    "    titanic_raw[feature_names],\n",
    "    titanic_raw[target_name],\n",
    "    test_size=0.2,\n",
    "    random_state=random_seed,\n",
    ")"
   ]
  },
  {
   "cell_type": "code",
   "execution_count": 17,
   "metadata": {
    "execution": {
     "iopub.execute_input": "2021-05-09T15:58:10.938273Z",
     "iopub.status.busy": "2021-05-09T15:58:10.938273Z",
     "iopub.status.idle": "2021-05-09T15:58:10.973531Z",
     "shell.execute_reply": "2021-05-09T15:58:10.973531Z",
     "shell.execute_reply.started": "2021-05-09T15:58:10.938273Z"
    },
    "tags": []
   },
   "outputs": [
    {
     "data": {
      "text/plain": [
       "((1044, 7), (262, 7), (1044,), (262,))"
      ]
     },
     "execution_count": 17,
     "metadata": {},
     "output_type": "execute_result"
    }
   ],
   "source": [
    "x_train_raw.shape, x_test_raw.shape, y_train_raw.shape, y_test_raw.shape"
   ]
  },
  {
   "cell_type": "markdown",
   "metadata": {},
   "source": [
    "## 데이터 전처리\n",
    "\n",
    "트리 모델이라 수치 데이터의 정규화는 하지 않고, 범주형 데이터의 one-hot 인코딩만 진행합니다.\n",
    "Scikit-learn에서 제공하는 `ColumnTransformer`, [`OneHotEncoder`](https://scikit-learn.org/stable/modules/generated/sklearn.preprocessing.OneHotEncoder.html) 등을 쓸 수도 있지만, 열 이름을 다 떼어 버리기 때문에, 여기서는 `pd.get_dummies`를 이용하겠습니다.\n",
    "원래는 fit-transform 과정을 거쳐야 하지만, 간단하게 하기 위해 이미 정보를 안다고 가정하고 수동으로 처리하겠습니다.\n",
    "\n",
    "- `pclass`: 1, 2, 3\n",
    "- `sex`: `female`, `male` 2가지이지만, 2열로 하지 않고 `male`은 떼어 버림\n",
    "- `embarked`: C, Q, S"
   ]
  },
  {
   "cell_type": "code",
   "execution_count": 18,
   "metadata": {
    "execution": {
     "iopub.execute_input": "2021-05-09T15:58:10.973531Z",
     "iopub.status.busy": "2021-05-09T15:58:10.973531Z",
     "iopub.status.idle": "2021-05-09T15:58:10.993679Z",
     "shell.execute_reply": "2021-05-09T15:58:10.993679Z",
     "shell.execute_reply.started": "2021-05-09T15:58:10.973531Z"
    },
    "tags": []
   },
   "outputs": [],
   "source": [
    "def titanic_one_hot_encoder(x, y=None):\n",
    "    numeric_df = x[numeric_feature_names]\n",
    "    one_hot_encoded_df = (\n",
    "        pd.get_dummies(x[categorical_feature_names])\n",
    "        .drop(columns=\"sex_male\")\n",
    "        .rename(columns=str.lower)\n",
    "    )\n",
    "    new_x = pd.concat((numeric_df, one_hot_encoded_df), axis=1)\n",
    "    return new_x"
   ]
  },
  {
   "cell_type": "code",
   "execution_count": 19,
   "metadata": {
    "execution": {
     "iopub.execute_input": "2021-05-09T15:58:10.998688Z",
     "iopub.status.busy": "2021-05-09T15:58:10.993679Z",
     "iopub.status.idle": "2021-05-09T15:58:11.068580Z",
     "shell.execute_reply": "2021-05-09T15:58:11.068580Z",
     "shell.execute_reply.started": "2021-05-09T15:58:10.998688Z"
    },
    "tags": []
   },
   "outputs": [
    {
     "data": {
      "text/html": [
       "<div>\n",
       "<style scoped>\n",
       "    .dataframe tbody tr th:only-of-type {\n",
       "        vertical-align: middle;\n",
       "    }\n",
       "\n",
       "    .dataframe tbody tr th {\n",
       "        vertical-align: top;\n",
       "    }\n",
       "\n",
       "    .dataframe thead th {\n",
       "        text-align: right;\n",
       "    }\n",
       "</style>\n",
       "<table border=\"1\" class=\"dataframe\">\n",
       "  <thead>\n",
       "    <tr style=\"text-align: right;\">\n",
       "      <th></th>\n",
       "      <th>age</th>\n",
       "      <th>sibsp</th>\n",
       "      <th>parch</th>\n",
       "      <th>fare</th>\n",
       "      <th>pclass_1</th>\n",
       "      <th>pclass_2</th>\n",
       "      <th>pclass_3</th>\n",
       "      <th>sex_female</th>\n",
       "      <th>embarked_c</th>\n",
       "      <th>embarked_q</th>\n",
       "      <th>embarked_s</th>\n",
       "    </tr>\n",
       "  </thead>\n",
       "  <tbody>\n",
       "    <tr>\n",
       "      <th>872</th>\n",
       "      <td>50.0</td>\n",
       "      <td>1</td>\n",
       "      <td>0</td>\n",
       "      <td>26.0000</td>\n",
       "      <td>0</td>\n",
       "      <td>1</td>\n",
       "      <td>0</td>\n",
       "      <td>0</td>\n",
       "      <td>0</td>\n",
       "      <td>0</td>\n",
       "      <td>1</td>\n",
       "    </tr>\n",
       "    <tr>\n",
       "      <th>1251</th>\n",
       "      <td>50.0</td>\n",
       "      <td>0</td>\n",
       "      <td>1</td>\n",
       "      <td>247.5208</td>\n",
       "      <td>1</td>\n",
       "      <td>0</td>\n",
       "      <td>0</td>\n",
       "      <td>1</td>\n",
       "      <td>1</td>\n",
       "      <td>0</td>\n",
       "      <td>0</td>\n",
       "    </tr>\n",
       "    <tr>\n",
       "      <th>771</th>\n",
       "      <td>NaN</td>\n",
       "      <td>0</td>\n",
       "      <td>0</td>\n",
       "      <td>31.6833</td>\n",
       "      <td>1</td>\n",
       "      <td>0</td>\n",
       "      <td>0</td>\n",
       "      <td>1</td>\n",
       "      <td>0</td>\n",
       "      <td>0</td>\n",
       "      <td>1</td>\n",
       "    </tr>\n",
       "    <tr>\n",
       "      <th>574</th>\n",
       "      <td>36.0</td>\n",
       "      <td>1</td>\n",
       "      <td>0</td>\n",
       "      <td>26.0000</td>\n",
       "      <td>0</td>\n",
       "      <td>1</td>\n",
       "      <td>0</td>\n",
       "      <td>1</td>\n",
       "      <td>0</td>\n",
       "      <td>0</td>\n",
       "      <td>1</td>\n",
       "    </tr>\n",
       "    <tr>\n",
       "      <th>786</th>\n",
       "      <td>39.0</td>\n",
       "      <td>0</td>\n",
       "      <td>0</td>\n",
       "      <td>7.9250</td>\n",
       "      <td>0</td>\n",
       "      <td>0</td>\n",
       "      <td>1</td>\n",
       "      <td>0</td>\n",
       "      <td>0</td>\n",
       "      <td>0</td>\n",
       "      <td>1</td>\n",
       "    </tr>\n",
       "  </tbody>\n",
       "</table>\n",
       "</div>"
      ],
      "text/plain": [
       "       age  sibsp  parch      fare  pclass_1  pclass_2  pclass_3  sex_female  \\\n",
       "872   50.0      1      0   26.0000         0         1         0           0   \n",
       "1251  50.0      0      1  247.5208         1         0         0           1   \n",
       "771    NaN      0      0   31.6833         1         0         0           1   \n",
       "574   36.0      1      0   26.0000         0         1         0           1   \n",
       "786   39.0      0      0    7.9250         0         0         1           0   \n",
       "\n",
       "      embarked_c  embarked_q  embarked_s  \n",
       "872            0           0           1  \n",
       "1251           1           0           0  \n",
       "771            0           0           1  \n",
       "574            0           0           1  \n",
       "786            0           0           1  "
      ]
     },
     "metadata": {},
     "output_type": "display_data"
    },
    {
     "data": {
      "text/html": [
       "<div>\n",
       "<style scoped>\n",
       "    .dataframe tbody tr th:only-of-type {\n",
       "        vertical-align: middle;\n",
       "    }\n",
       "\n",
       "    .dataframe tbody tr th {\n",
       "        vertical-align: top;\n",
       "    }\n",
       "\n",
       "    .dataframe thead th {\n",
       "        text-align: right;\n",
       "    }\n",
       "</style>\n",
       "<table border=\"1\" class=\"dataframe\">\n",
       "  <thead>\n",
       "    <tr style=\"text-align: right;\">\n",
       "      <th></th>\n",
       "      <th>age</th>\n",
       "      <th>sibsp</th>\n",
       "      <th>parch</th>\n",
       "      <th>fare</th>\n",
       "      <th>pclass_1</th>\n",
       "      <th>pclass_2</th>\n",
       "      <th>pclass_3</th>\n",
       "      <th>sex_female</th>\n",
       "      <th>embarked_c</th>\n",
       "      <th>embarked_q</th>\n",
       "      <th>embarked_s</th>\n",
       "    </tr>\n",
       "  </thead>\n",
       "  <tbody>\n",
       "    <tr>\n",
       "      <th>644</th>\n",
       "      <td>1.0</td>\n",
       "      <td>0</td>\n",
       "      <td>2</td>\n",
       "      <td>37.0042</td>\n",
       "      <td>0</td>\n",
       "      <td>1</td>\n",
       "      <td>0</td>\n",
       "      <td>0</td>\n",
       "      <td>1</td>\n",
       "      <td>0</td>\n",
       "      <td>0</td>\n",
       "    </tr>\n",
       "    <tr>\n",
       "      <th>1144</th>\n",
       "      <td>36.0</td>\n",
       "      <td>1</td>\n",
       "      <td>0</td>\n",
       "      <td>17.4000</td>\n",
       "      <td>0</td>\n",
       "      <td>0</td>\n",
       "      <td>1</td>\n",
       "      <td>1</td>\n",
       "      <td>0</td>\n",
       "      <td>0</td>\n",
       "      <td>1</td>\n",
       "    </tr>\n",
       "    <tr>\n",
       "      <th>900</th>\n",
       "      <td>51.0</td>\n",
       "      <td>0</td>\n",
       "      <td>0</td>\n",
       "      <td>12.5250</td>\n",
       "      <td>0</td>\n",
       "      <td>1</td>\n",
       "      <td>0</td>\n",
       "      <td>0</td>\n",
       "      <td>0</td>\n",
       "      <td>0</td>\n",
       "      <td>1</td>\n",
       "    </tr>\n",
       "    <tr>\n",
       "      <th>398</th>\n",
       "      <td>18.0</td>\n",
       "      <td>0</td>\n",
       "      <td>0</td>\n",
       "      <td>6.7500</td>\n",
       "      <td>0</td>\n",
       "      <td>0</td>\n",
       "      <td>1</td>\n",
       "      <td>1</td>\n",
       "      <td>0</td>\n",
       "      <td>1</td>\n",
       "      <td>0</td>\n",
       "    </tr>\n",
       "    <tr>\n",
       "      <th>457</th>\n",
       "      <td>25.0</td>\n",
       "      <td>0</td>\n",
       "      <td>0</td>\n",
       "      <td>7.8958</td>\n",
       "      <td>0</td>\n",
       "      <td>0</td>\n",
       "      <td>1</td>\n",
       "      <td>0</td>\n",
       "      <td>0</td>\n",
       "      <td>0</td>\n",
       "      <td>1</td>\n",
       "    </tr>\n",
       "  </tbody>\n",
       "</table>\n",
       "</div>"
      ],
      "text/plain": [
       "       age  sibsp  parch     fare  pclass_1  pclass_2  pclass_3  sex_female  \\\n",
       "644    1.0      0      2  37.0042         0         1         0           0   \n",
       "1144  36.0      1      0  17.4000         0         0         1           1   \n",
       "900   51.0      0      0  12.5250         0         1         0           0   \n",
       "398   18.0      0      0   6.7500         0         0         1           1   \n",
       "457   25.0      0      0   7.8958         0         0         1           0   \n",
       "\n",
       "      embarked_c  embarked_q  embarked_s  \n",
       "644            1           0           0  \n",
       "1144           0           0           1  \n",
       "900            0           0           1  \n",
       "398            0           1           0  \n",
       "457            0           0           1  "
      ]
     },
     "metadata": {},
     "output_type": "display_data"
    }
   ],
   "source": [
    "x_train = titanic_one_hot_encoder(x_train_raw)\n",
    "x_test = titanic_one_hot_encoder(x_test_raw)\n",
    "y_train = y_train_raw.copy()\n",
    "y_test = y_test_raw.copy()\n",
    "\n",
    "display(x_train.head())\n",
    "display(x_test.head())"
   ]
  },
  {
   "cell_type": "markdown",
   "metadata": {},
   "source": [
    "⚠️ [Min-max scale](https://scikit-learn.org/stable/modules/generated/sklearn.preprocessing.MinMaxScaler.html), [정규화](https://scikit-learn.org/stable/modules/generated/sklearn.preprocessing.StandardScaler.html) 등을 할 때엔, 학습 세트와 평가 세트를 따로 하지 않도록 조심해야 합니다."
   ]
  },
  {
   "cell_type": "markdown",
   "metadata": {},
   "source": [
    "잘못된 예:"
   ]
  },
  {
   "cell_type": "code",
   "execution_count": 20,
   "metadata": {
    "execution": {
     "iopub.execute_input": "2021-05-09T15:58:11.073631Z",
     "iopub.status.busy": "2021-05-09T15:58:11.068580Z",
     "iopub.status.idle": "2021-05-09T15:58:11.591983Z",
     "shell.execute_reply": "2021-05-09T15:58:11.588951Z",
     "shell.execute_reply.started": "2021-05-09T15:58:11.073631Z"
    },
    "tags": []
   },
   "outputs": [
    {
     "data": {
      "image/png": "[encoded data removed]",
      "text/plain": [
       "<Figure size 432x288 with 1 Axes>"
      ]
     },
     "metadata": {
      "image/png": {
       "height": 296,
       "width": 440
      },
      "needs_background": "light"
     },
     "output_type": "display_data"
    }
   ],
   "source": [
    "random_seed = 42\n",
    "\n",
    "rng = np.random.default_rng(seed=random_seed)\n",
    "\n",
    "example_train_set = 5 * rng.random((20, 2)) + 5\n",
    "example_test_set = 5 * rng.random((3, 2)) + 5\n",
    "\n",
    "fig, ax = plt.subplots()\n",
    "\n",
    "ax.plot(example_train_set[:, 0], example_train_set[:, 1], \"o\", label=\"Training set\")\n",
    "ax.plot(example_test_set[:, 0], example_test_set[:, 1], \"X\", label=\"Test set\")\n",
    "ax.legend()\n",
    "ax.set_title(\"Before scaling\")\n",
    "pass"
   ]
  },
  {
   "cell_type": "code",
   "execution_count": 21,
   "metadata": {
    "execution": {
     "iopub.execute_input": "2021-05-09T15:58:11.592988Z",
     "iopub.status.busy": "2021-05-09T15:58:11.592988Z",
     "iopub.status.idle": "2021-05-09T15:58:11.605984Z",
     "shell.execute_reply": "2021-05-09T15:58:11.604983Z",
     "shell.execute_reply.started": "2021-05-09T15:58:11.592988Z"
    },
    "tags": []
   },
   "outputs": [],
   "source": [
    "# Wrong!\n",
    "scaled_train_set = MinMaxScaler().fit_transform(example_train_set)\n",
    "# ...training...\n",
    "scaled_test_set = MinMaxScaler().fit_transform(example_test_set)"
   ]
  },
  {
   "cell_type": "code",
   "execution_count": 22,
   "metadata": {
    "execution": {
     "iopub.execute_input": "2021-05-09T15:58:11.607983Z",
     "iopub.status.busy": "2021-05-09T15:58:11.607983Z",
     "iopub.status.idle": "2021-05-09T15:58:11.903571Z",
     "shell.execute_reply": "2021-05-09T15:58:11.903571Z",
     "shell.execute_reply.started": "2021-05-09T15:58:11.607983Z"
    },
    "tags": []
   },
   "outputs": [
    {
     "data": {
      "image/png": "[encoded data removed]",
      "text/plain": [
       "<Figure size 432x288 with 1 Axes>"
      ]
     },
     "metadata": {
      "image/png": {
       "height": 296,
       "width": 440
      },
      "needs_background": "light"
     },
     "output_type": "display_data"
    }
   ],
   "source": [
    "fig, ax = plt.subplots()\n",
    "\n",
    "ax.plot(scaled_train_set[:, 0], scaled_train_set[:, 1], \"o\", label=\"Training set\")\n",
    "ax.plot(scaled_test_set[:, 0], scaled_test_set[:, 1], \"X\", label=\"Test set\")\n",
    "ax.legend()\n",
    "ax.set_title(\"After scaling (wrong)\")\n",
    "pass"
   ]
  },
  {
   "cell_type": "markdown",
   "metadata": {},
   "source": [
    "바른 예:"
   ]
  },
  {
   "cell_type": "code",
   "execution_count": 23,
   "metadata": {
    "execution": {
     "iopub.execute_input": "2021-05-09T15:58:11.903571Z",
     "iopub.status.busy": "2021-05-09T15:58:11.903571Z",
     "iopub.status.idle": "2021-05-09T15:58:11.923815Z",
     "shell.execute_reply": "2021-05-09T15:58:11.923815Z",
     "shell.execute_reply.started": "2021-05-09T15:58:11.903571Z"
    },
    "tags": []
   },
   "outputs": [],
   "source": [
    "scaler = MinMaxScaler()\n",
    "scaler.fit(example_train_set)\n",
    "scaled_train_set = scaler.transform(example_train_set)\n",
    "scaled_test_set = scaler.transform(example_test_set)"
   ]
  },
  {
   "cell_type": "code",
   "execution_count": 24,
   "metadata": {
    "execution": {
     "iopub.execute_input": "2021-05-09T15:58:11.923815Z",
     "iopub.status.busy": "2021-05-09T15:58:11.923815Z",
     "iopub.status.idle": "2021-05-09T15:58:12.203627Z",
     "shell.execute_reply": "2021-05-09T15:58:12.203627Z",
     "shell.execute_reply.started": "2021-05-09T15:58:11.923815Z"
    },
    "tags": []
   },
   "outputs": [
    {
     "data": {
      "image/png": "[encoded data removed]",
      "text/plain": [
       "<Figure size 432x288 with 1 Axes>"
      ]
     },
     "metadata": {
      "image/png": {
       "height": 296,
       "width": 440
      },
      "needs_background": "light"
     },
     "output_type": "display_data"
    }
   ],
   "source": [
    "fig, ax = plt.subplots()\n",
    "\n",
    "ax.plot(scaled_train_set[:, 0], scaled_train_set[:, 1], \"o\", label=\"Training set\")\n",
    "ax.plot(scaled_test_set[:, 0], scaled_test_set[:, 1], \"X\", label=\"Test set\")\n",
    "ax.legend()\n",
    "ax.set_title(\"After scaling\")\n",
    "pass"
   ]
  },
  {
   "cell_type": "markdown",
   "metadata": {},
   "source": [
    "## 학습 (기본 XGBoost API 이용)\n",
    "\n",
    "참고: [XGBoost Parameters](https://xgboost.readthedocs.io/en/latest/parameter.html)"
   ]
  },
  {
   "cell_type": "code",
   "execution_count": 25,
   "metadata": {
    "execution": {
     "iopub.execute_input": "2021-05-09T15:58:12.203627Z",
     "iopub.status.busy": "2021-05-09T15:58:12.203627Z",
     "iopub.status.idle": "2021-05-09T15:58:12.223986Z",
     "shell.execute_reply": "2021-05-09T15:58:12.223986Z",
     "shell.execute_reply.started": "2021-05-09T15:58:12.203627Z"
    },
    "tags": []
   },
   "outputs": [],
   "source": [
    "params = {\n",
    "    \"objective\": \"binary:logistic\",\n",
    "    \"eval_metric\": \"logloss\",\n",
    "    \"eta\": 0.1,  # {0.3} learning rate\n",
    "    \"gamma\": 1.0,  # {0} Minimum loss reduction\n",
    "    \"max_depth\": 5,  # {6}\n",
    "    \"subsample\": 0.5,  # {1} Row (sample) subsample ratio\n",
    "    \"colsample_bytree\": 0.5,  # {1} Column (feature) subsample ratio\n",
    "    \"lambda\": 1,  # {1} L2 regularization term\n",
    "    \"verbosity\": 0,\n",
    "}"
   ]
  },
  {
   "cell_type": "code",
   "execution_count": 26,
   "metadata": {
    "execution": {
     "iopub.execute_input": "2021-05-09T15:58:12.223986Z",
     "iopub.status.busy": "2021-05-09T15:58:12.223986Z",
     "iopub.status.idle": "2021-05-09T15:58:12.239217Z",
     "shell.execute_reply": "2021-05-09T15:58:12.239217Z",
     "shell.execute_reply.started": "2021-05-09T15:58:12.223986Z"
    },
    "tags": []
   },
   "outputs": [],
   "source": [
    "def get_scores(y_true, y_pred):\n",
    "    return {\n",
    "        \"accuracy\": sklearn.metrics.accuracy_score(y_true, y_pred > 0.5),\n",
    "        \"log_loss\": sklearn.metrics.log_loss(y_true, y_pred),\n",
    "        \"roc_auc\": sklearn.metrics.roc_auc_score(y_true, y_pred),\n",
    "    }"
   ]
  },
  {
   "cell_type": "markdown",
   "metadata": {},
   "source": [
    "XGBoost는 자체적으로 `DMatrix` 형식의 데이터를 씁니다. ([Core Data Structure](https://xgboost.readthedocs.io/en/latest/python/python_api.html#module-xgboost.core))"
   ]
  },
  {
   "cell_type": "code",
   "execution_count": 27,
   "metadata": {
    "execution": {
     "iopub.execute_input": "2021-05-09T15:58:12.243753Z",
     "iopub.status.busy": "2021-05-09T15:58:12.243753Z",
     "iopub.status.idle": "2021-05-09T15:58:12.278936Z",
     "shell.execute_reply": "2021-05-09T15:58:12.278936Z",
     "shell.execute_reply.started": "2021-05-09T15:58:12.243753Z"
    },
    "tags": []
   },
   "outputs": [],
   "source": [
    "dtrain = xgb.DMatrix(x_train, label=y_train)\n",
    "dtest = xgb.DMatrix(x_test, label=y_test)"
   ]
  },
  {
   "cell_type": "code",
   "execution_count": 28,
   "metadata": {
    "execution": {
     "iopub.execute_input": "2021-05-09T15:58:12.278936Z",
     "iopub.status.busy": "2021-05-09T15:58:12.278936Z",
     "iopub.status.idle": "2021-05-09T15:58:13.200366Z",
     "shell.execute_reply": "2021-05-09T15:58:13.200366Z",
     "shell.execute_reply.started": "2021-05-09T15:58:12.278936Z"
    },
    "tags": []
   },
   "outputs": [],
   "source": [
    "num_round = 200\n",
    "\n",
    "bst = xgb.train(params, dtrain, num_boost_round=num_round)"
   ]
  },
  {
   "cell_type": "code",
   "execution_count": 29,
   "metadata": {
    "execution": {
     "iopub.execute_input": "2021-05-09T15:58:13.208545Z",
     "iopub.status.busy": "2021-05-09T15:58:13.208422Z",
     "iopub.status.idle": "2021-05-09T15:58:13.218652Z",
     "shell.execute_reply": "2021-05-09T15:58:13.218652Z",
     "shell.execute_reply.started": "2021-05-09T15:58:13.208545Z"
    },
    "tags": []
   },
   "outputs": [],
   "source": [
    "y_pred_train = bst.predict(dtrain)\n",
    "y_pred_test = bst.predict(dtest)"
   ]
  },
  {
   "cell_type": "code",
   "execution_count": 30,
   "metadata": {
    "execution": {
     "iopub.execute_input": "2021-05-09T15:58:13.223728Z",
     "iopub.status.busy": "2021-05-09T15:58:13.220690Z",
     "iopub.status.idle": "2021-05-09T15:58:13.249074Z",
     "shell.execute_reply": "2021-05-09T15:58:13.249074Z",
     "shell.execute_reply.started": "2021-05-09T15:58:13.223728Z"
    },
    "tags": []
   },
   "outputs": [
    {
     "name": "stdout",
     "output_type": "stream",
     "text": [
      "Train {'accuracy': 0.8908045977011494, 'log_loss': 0.2933481297816125, 'roc_auc': 0.9474465100505611}\n",
      "Test {'accuracy': 0.8206106870229007, 'log_loss': 0.4212031219517172, 'roc_auc': 0.8670542635658917}\n"
     ]
    }
   ],
   "source": [
    "print(\"Train\", get_scores(y_train, y_pred_train))\n",
    "print(\"Test\", get_scores(y_test, y_pred_test))"
   ]
  },
  {
   "cell_type": "markdown",
   "metadata": {},
   "source": [
    "XGBoost에서 기본으로 제공하는 `plot_importance`를 이용해 F-score를 확인해 봅니다."
   ]
  },
  {
   "cell_type": "code",
   "execution_count": 31,
   "metadata": {
    "execution": {
     "iopub.execute_input": "2021-05-09T15:58:13.251109Z",
     "iopub.status.busy": "2021-05-09T15:58:13.251109Z",
     "iopub.status.idle": "2021-05-09T15:58:13.668627Z",
     "shell.execute_reply": "2021-05-09T15:58:13.668627Z",
     "shell.execute_reply.started": "2021-05-09T15:58:13.251109Z"
    },
    "tags": []
   },
   "outputs": [
    {
     "data": {
      "image/png": "[encoded data removed]",
      "text/plain": [
       "<Figure size 432x288 with 1 Axes>"
      ]
     },
     "metadata": {
      "image/png": {
       "height": 296,
       "width": 440
      },
      "needs_background": "light"
     },
     "output_type": "display_data"
    }
   ],
   "source": [
    "fig, ax = plt.subplots()\n",
    "\n",
    "xgb.plot_importance(bst, importance_type=\"total_gain\", ax=ax)\n",
    "pass"
   ]
  },
  {
   "cell_type": "markdown",
   "metadata": {},
   "source": [
    "부스터(학습된 모델)를 저장하고 불러오거나, 학습을 이어할 수 있습니다."
   ]
  },
  {
   "cell_type": "code",
   "execution_count": 32,
   "metadata": {
    "execution": {
     "iopub.execute_input": "2021-05-09T15:58:13.668627Z",
     "iopub.status.busy": "2021-05-09T15:58:13.668627Z",
     "iopub.status.idle": "2021-05-09T15:58:13.684025Z",
     "shell.execute_reply": "2021-05-09T15:58:13.684025Z",
     "shell.execute_reply.started": "2021-05-09T15:58:13.668627Z"
    },
    "tags": []
   },
   "outputs": [],
   "source": [
    "dtrain = xgb.DMatrix(x_train, label=y_train)\n",
    "dtest = xgb.DMatrix(x_test, label=y_test)"
   ]
  },
  {
   "cell_type": "code",
   "execution_count": 33,
   "metadata": {
    "execution": {
     "iopub.execute_input": "2021-05-09T15:58:13.684025Z",
     "iopub.status.busy": "2021-05-09T15:58:13.684025Z",
     "iopub.status.idle": "2021-05-09T15:58:18.598887Z",
     "shell.execute_reply": "2021-05-09T15:58:18.598887Z",
     "shell.execute_reply.started": "2021-05-09T15:58:13.684025Z"
    },
    "tags": []
   },
   "outputs": [],
   "source": [
    "num_round = 200\n",
    "num_round_per_loop = 5\n",
    "\n",
    "bst = None\n",
    "train_scores = []\n",
    "test_scores = []\n",
    "for i in range(num_round_per_loop, num_round + 1, num_round_per_loop):\n",
    "    bst = xgb.train(params, dtrain, num_boost_round=5, xgb_model=bst)\n",
    "\n",
    "    y_pred_train = bst.predict(dtrain)\n",
    "    y_pred_test = bst.predict(dtest)\n",
    "    train_scores.append(\n",
    "        {\n",
    "            \"iteration\": i,\n",
    "            **{f\"train_{k}\": v for k, v in get_scores(y_train, y_pred_train).items()},\n",
    "        }\n",
    "    )\n",
    "    test_scores.append(\n",
    "        {\n",
    "            \"iteration\": i,\n",
    "            **{f\"test_{k}\": v for k, v in get_scores(y_test, y_pred_test).items()},\n",
    "        }\n",
    "    )\n",
    "\n",
    "train_scores_df = pd.DataFrame(train_scores).set_index(\"iteration\")\n",
    "test_scores_df = pd.DataFrame(test_scores).set_index(\"iteration\")"
   ]
  },
  {
   "cell_type": "code",
   "execution_count": 34,
   "metadata": {
    "execution": {
     "iopub.execute_input": "2021-05-09T15:58:18.601928Z",
     "iopub.status.busy": "2021-05-09T15:58:18.601928Z",
     "iopub.status.idle": "2021-05-09T15:58:18.648569Z",
     "shell.execute_reply": "2021-05-09T15:58:18.648569Z",
     "shell.execute_reply.started": "2021-05-09T15:58:18.601928Z"
    },
    "tags": []
   },
   "outputs": [
    {
     "data": {
      "text/html": [
       "<div>\n",
       "<style scoped>\n",
       "    .dataframe tbody tr th:only-of-type {\n",
       "        vertical-align: middle;\n",
       "    }\n",
       "\n",
       "    .dataframe tbody tr th {\n",
       "        vertical-align: top;\n",
       "    }\n",
       "\n",
       "    .dataframe thead th {\n",
       "        text-align: right;\n",
       "    }\n",
       "</style>\n",
       "<table border=\"1\" class=\"dataframe\">\n",
       "  <thead>\n",
       "    <tr style=\"text-align: right;\">\n",
       "      <th></th>\n",
       "      <th>train_accuracy</th>\n",
       "      <th>train_log_loss</th>\n",
       "      <th>train_roc_auc</th>\n",
       "      <th>test_accuracy</th>\n",
       "      <th>test_log_loss</th>\n",
       "      <th>test_roc_auc</th>\n",
       "    </tr>\n",
       "    <tr>\n",
       "      <th>iteration</th>\n",
       "      <th></th>\n",
       "      <th></th>\n",
       "      <th></th>\n",
       "      <th></th>\n",
       "      <th></th>\n",
       "      <th></th>\n",
       "    </tr>\n",
       "  </thead>\n",
       "  <tbody>\n",
       "    <tr>\n",
       "      <th>5</th>\n",
       "      <td>0.803640</td>\n",
       "      <td>0.580519</td>\n",
       "      <td>0.860969</td>\n",
       "      <td>0.790076</td>\n",
       "      <td>0.577639</td>\n",
       "      <td>0.831460</td>\n",
       "    </tr>\n",
       "    <tr>\n",
       "      <th>10</th>\n",
       "      <td>0.822797</td>\n",
       "      <td>0.507764</td>\n",
       "      <td>0.870397</td>\n",
       "      <td>0.809160</td>\n",
       "      <td>0.509095</td>\n",
       "      <td>0.840019</td>\n",
       "    </tr>\n",
       "    <tr>\n",
       "      <th>15</th>\n",
       "      <td>0.832375</td>\n",
       "      <td>0.467137</td>\n",
       "      <td>0.884640</td>\n",
       "      <td>0.801527</td>\n",
       "      <td>0.481362</td>\n",
       "      <td>0.840891</td>\n",
       "    </tr>\n",
       "    <tr>\n",
       "      <th>20</th>\n",
       "      <td>0.827586</td>\n",
       "      <td>0.437395</td>\n",
       "      <td>0.890650</td>\n",
       "      <td>0.816794</td>\n",
       "      <td>0.463700</td>\n",
       "      <td>0.842539</td>\n",
       "    </tr>\n",
       "    <tr>\n",
       "      <th>25</th>\n",
       "      <td>0.828544</td>\n",
       "      <td>0.424701</td>\n",
       "      <td>0.891612</td>\n",
       "      <td>0.820611</td>\n",
       "      <td>0.454584</td>\n",
       "      <td>0.842571</td>\n",
       "    </tr>\n",
       "    <tr>\n",
       "      <th>30</th>\n",
       "      <td>0.836207</td>\n",
       "      <td>0.413186</td>\n",
       "      <td>0.892353</td>\n",
       "      <td>0.816794</td>\n",
       "      <td>0.445018</td>\n",
       "      <td>0.846964</td>\n",
       "    </tr>\n",
       "    <tr>\n",
       "      <th>35</th>\n",
       "      <td>0.838123</td>\n",
       "      <td>0.402122</td>\n",
       "      <td>0.895483</td>\n",
       "      <td>0.816794</td>\n",
       "      <td>0.441254</td>\n",
       "      <td>0.843120</td>\n",
       "    </tr>\n",
       "    <tr>\n",
       "      <th>40</th>\n",
       "      <td>0.846743</td>\n",
       "      <td>0.390422</td>\n",
       "      <td>0.901726</td>\n",
       "      <td>0.809160</td>\n",
       "      <td>0.436183</td>\n",
       "      <td>0.847093</td>\n",
       "    </tr>\n",
       "    <tr>\n",
       "      <th>45</th>\n",
       "      <td>0.843870</td>\n",
       "      <td>0.381815</td>\n",
       "      <td>0.907167</td>\n",
       "      <td>0.805344</td>\n",
       "      <td>0.432421</td>\n",
       "      <td>0.851066</td>\n",
       "    </tr>\n",
       "    <tr>\n",
       "      <th>50</th>\n",
       "      <td>0.844828</td>\n",
       "      <td>0.376951</td>\n",
       "      <td>0.909770</td>\n",
       "      <td>0.805344</td>\n",
       "      <td>0.430821</td>\n",
       "      <td>0.851712</td>\n",
       "    </tr>\n",
       "    <tr>\n",
       "      <th>55</th>\n",
       "      <td>0.851533</td>\n",
       "      <td>0.371029</td>\n",
       "      <td>0.913374</td>\n",
       "      <td>0.809160</td>\n",
       "      <td>0.428490</td>\n",
       "      <td>0.852584</td>\n",
       "    </tr>\n",
       "    <tr>\n",
       "      <th>60</th>\n",
       "      <td>0.854406</td>\n",
       "      <td>0.364010</td>\n",
       "      <td>0.917909</td>\n",
       "      <td>0.812977</td>\n",
       "      <td>0.425506</td>\n",
       "      <td>0.854587</td>\n",
       "    </tr>\n",
       "    <tr>\n",
       "      <th>65</th>\n",
       "      <td>0.860153</td>\n",
       "      <td>0.359677</td>\n",
       "      <td>0.920077</td>\n",
       "      <td>0.805344</td>\n",
       "      <td>0.426964</td>\n",
       "      <td>0.854393</td>\n",
       "    </tr>\n",
       "    <tr>\n",
       "      <th>70</th>\n",
       "      <td>0.865900</td>\n",
       "      <td>0.352874</td>\n",
       "      <td>0.922320</td>\n",
       "      <td>0.809160</td>\n",
       "      <td>0.425090</td>\n",
       "      <td>0.857235</td>\n",
       "    </tr>\n",
       "    <tr>\n",
       "      <th>75</th>\n",
       "      <td>0.868774</td>\n",
       "      <td>0.347657</td>\n",
       "      <td>0.925334</td>\n",
       "      <td>0.801527</td>\n",
       "      <td>0.427284</td>\n",
       "      <td>0.855685</td>\n",
       "    </tr>\n",
       "    <tr>\n",
       "      <th>80</th>\n",
       "      <td>0.867816</td>\n",
       "      <td>0.346157</td>\n",
       "      <td>0.926243</td>\n",
       "      <td>0.805344</td>\n",
       "      <td>0.424227</td>\n",
       "      <td>0.857300</td>\n",
       "    </tr>\n",
       "    <tr>\n",
       "      <th>85</th>\n",
       "      <td>0.872605</td>\n",
       "      <td>0.343087</td>\n",
       "      <td>0.928361</td>\n",
       "      <td>0.805344</td>\n",
       "      <td>0.423886</td>\n",
       "      <td>0.858140</td>\n",
       "    </tr>\n",
       "    <tr>\n",
       "      <th>90</th>\n",
       "      <td>0.873563</td>\n",
       "      <td>0.338594</td>\n",
       "      <td>0.929355</td>\n",
       "      <td>0.805344</td>\n",
       "      <td>0.424163</td>\n",
       "      <td>0.858592</td>\n",
       "    </tr>\n",
       "    <tr>\n",
       "      <th>95</th>\n",
       "      <td>0.880268</td>\n",
       "      <td>0.335020</td>\n",
       "      <td>0.931540</td>\n",
       "      <td>0.828244</td>\n",
       "      <td>0.424039</td>\n",
       "      <td>0.858721</td>\n",
       "    </tr>\n",
       "    <tr>\n",
       "      <th>100</th>\n",
       "      <td>0.877395</td>\n",
       "      <td>0.331021</td>\n",
       "      <td>0.933120</td>\n",
       "      <td>0.816794</td>\n",
       "      <td>0.426373</td>\n",
       "      <td>0.856395</td>\n",
       "    </tr>\n",
       "    <tr>\n",
       "      <th>105</th>\n",
       "      <td>0.874521</td>\n",
       "      <td>0.327338</td>\n",
       "      <td>0.933664</td>\n",
       "      <td>0.820611</td>\n",
       "      <td>0.423569</td>\n",
       "      <td>0.858979</td>\n",
       "    </tr>\n",
       "    <tr>\n",
       "      <th>110</th>\n",
       "      <td>0.873563</td>\n",
       "      <td>0.325713</td>\n",
       "      <td>0.933887</td>\n",
       "      <td>0.816794</td>\n",
       "      <td>0.425673</td>\n",
       "      <td>0.856525</td>\n",
       "    </tr>\n",
       "    <tr>\n",
       "      <th>115</th>\n",
       "      <td>0.875479</td>\n",
       "      <td>0.324737</td>\n",
       "      <td>0.934731</td>\n",
       "      <td>0.820611</td>\n",
       "      <td>0.425780</td>\n",
       "      <td>0.857171</td>\n",
       "    </tr>\n",
       "    <tr>\n",
       "      <th>120</th>\n",
       "      <td>0.874521</td>\n",
       "      <td>0.321293</td>\n",
       "      <td>0.936589</td>\n",
       "      <td>0.824427</td>\n",
       "      <td>0.422491</td>\n",
       "      <td>0.861240</td>\n",
       "    </tr>\n",
       "    <tr>\n",
       "      <th>125</th>\n",
       "      <td>0.880268</td>\n",
       "      <td>0.317236</td>\n",
       "      <td>0.938936</td>\n",
       "      <td>0.820611</td>\n",
       "      <td>0.424921</td>\n",
       "      <td>0.859302</td>\n",
       "    </tr>\n",
       "    <tr>\n",
       "      <th>130</th>\n",
       "      <td>0.885057</td>\n",
       "      <td>0.314693</td>\n",
       "      <td>0.939810</td>\n",
       "      <td>0.816794</td>\n",
       "      <td>0.423591</td>\n",
       "      <td>0.862597</td>\n",
       "    </tr>\n",
       "    <tr>\n",
       "      <th>135</th>\n",
       "      <td>0.884100</td>\n",
       "      <td>0.311130</td>\n",
       "      <td>0.941990</td>\n",
       "      <td>0.824427</td>\n",
       "      <td>0.420521</td>\n",
       "      <td>0.863760</td>\n",
       "    </tr>\n",
       "    <tr>\n",
       "      <th>140</th>\n",
       "      <td>0.883142</td>\n",
       "      <td>0.309438</td>\n",
       "      <td>0.941535</td>\n",
       "      <td>0.816794</td>\n",
       "      <td>0.418363</td>\n",
       "      <td>0.864083</td>\n",
       "    </tr>\n",
       "    <tr>\n",
       "      <th>145</th>\n",
       "      <td>0.879310</td>\n",
       "      <td>0.308262</td>\n",
       "      <td>0.942109</td>\n",
       "      <td>0.809160</td>\n",
       "      <td>0.419420</td>\n",
       "      <td>0.863501</td>\n",
       "    </tr>\n",
       "    <tr>\n",
       "      <th>150</th>\n",
       "      <td>0.883142</td>\n",
       "      <td>0.306389</td>\n",
       "      <td>0.942552</td>\n",
       "      <td>0.816794</td>\n",
       "      <td>0.417796</td>\n",
       "      <td>0.865310</td>\n",
       "    </tr>\n",
       "    <tr>\n",
       "      <th>155</th>\n",
       "      <td>0.882184</td>\n",
       "      <td>0.305329</td>\n",
       "      <td>0.943458</td>\n",
       "      <td>0.812977</td>\n",
       "      <td>0.416740</td>\n",
       "      <td>0.866860</td>\n",
       "    </tr>\n",
       "    <tr>\n",
       "      <th>160</th>\n",
       "      <td>0.884100</td>\n",
       "      <td>0.303021</td>\n",
       "      <td>0.944136</td>\n",
       "      <td>0.816794</td>\n",
       "      <td>0.415048</td>\n",
       "      <td>0.868023</td>\n",
       "    </tr>\n",
       "    <tr>\n",
       "      <th>165</th>\n",
       "      <td>0.885057</td>\n",
       "      <td>0.302376</td>\n",
       "      <td>0.944510</td>\n",
       "      <td>0.816794</td>\n",
       "      <td>0.416237</td>\n",
       "      <td>0.867829</td>\n",
       "    </tr>\n",
       "    <tr>\n",
       "      <th>170</th>\n",
       "      <td>0.887931</td>\n",
       "      <td>0.299994</td>\n",
       "      <td>0.945304</td>\n",
       "      <td>0.816794</td>\n",
       "      <td>0.417203</td>\n",
       "      <td>0.866344</td>\n",
       "    </tr>\n",
       "    <tr>\n",
       "      <th>175</th>\n",
       "      <td>0.887931</td>\n",
       "      <td>0.298003</td>\n",
       "      <td>0.945720</td>\n",
       "      <td>0.820611</td>\n",
       "      <td>0.416944</td>\n",
       "      <td>0.866150</td>\n",
       "    </tr>\n",
       "    <tr>\n",
       "      <th>180</th>\n",
       "      <td>0.886973</td>\n",
       "      <td>0.297495</td>\n",
       "      <td>0.946275</td>\n",
       "      <td>0.824427</td>\n",
       "      <td>0.416926</td>\n",
       "      <td>0.865956</td>\n",
       "    </tr>\n",
       "    <tr>\n",
       "      <th>185</th>\n",
       "      <td>0.887931</td>\n",
       "      <td>0.296932</td>\n",
       "      <td>0.946537</td>\n",
       "      <td>0.816794</td>\n",
       "      <td>0.417680</td>\n",
       "      <td>0.865891</td>\n",
       "    </tr>\n",
       "    <tr>\n",
       "      <th>190</th>\n",
       "      <td>0.886973</td>\n",
       "      <td>0.295499</td>\n",
       "      <td>0.947342</td>\n",
       "      <td>0.816794</td>\n",
       "      <td>0.420179</td>\n",
       "      <td>0.867442</td>\n",
       "    </tr>\n",
       "    <tr>\n",
       "      <th>195</th>\n",
       "      <td>0.888889</td>\n",
       "      <td>0.293722</td>\n",
       "      <td>0.947481</td>\n",
       "      <td>0.816794</td>\n",
       "      <td>0.420547</td>\n",
       "      <td>0.867054</td>\n",
       "    </tr>\n",
       "    <tr>\n",
       "      <th>200</th>\n",
       "      <td>0.890805</td>\n",
       "      <td>0.293348</td>\n",
       "      <td>0.947447</td>\n",
       "      <td>0.820611</td>\n",
       "      <td>0.421203</td>\n",
       "      <td>0.867054</td>\n",
       "    </tr>\n",
       "  </tbody>\n",
       "</table>\n",
       "</div>"
      ],
      "text/plain": [
       "           train_accuracy  train_log_loss  train_roc_auc  test_accuracy  \\\n",
       "iteration                                                                 \n",
       "5                0.803640        0.580519       0.860969       0.790076   \n",
       "10               0.822797        0.507764       0.870397       0.809160   \n",
       "15               0.832375        0.467137       0.884640       0.801527   \n",
       "20               0.827586        0.437395       0.890650       0.816794   \n",
       "25               0.828544        0.424701       0.891612       0.820611   \n",
       "30               0.836207        0.413186       0.892353       0.816794   \n",
       "35               0.838123        0.402122       0.895483       0.816794   \n",
       "40               0.846743        0.390422       0.901726       0.809160   \n",
       "45               0.843870        0.381815       0.907167       0.805344   \n",
       "50               0.844828        0.376951       0.909770       0.805344   \n",
       "55               0.851533        0.371029       0.913374       0.809160   \n",
       "60               0.854406        0.364010       0.917909       0.812977   \n",
       "65               0.860153        0.359677       0.920077       0.805344   \n",
       "70               0.865900        0.352874       0.922320       0.809160   \n",
       "75               0.868774        0.347657       0.925334       0.801527   \n",
       "80               0.867816        0.346157       0.926243       0.805344   \n",
       "85               0.872605        0.343087       0.928361       0.805344   \n",
       "90               0.873563        0.338594       0.929355       0.805344   \n",
       "95               0.880268        0.335020       0.931540       0.828244   \n",
       "100              0.877395        0.331021       0.933120       0.816794   \n",
       "105              0.874521        0.327338       0.933664       0.820611   \n",
       "110              0.873563        0.325713       0.933887       0.816794   \n",
       "115              0.875479        0.324737       0.934731       0.820611   \n",
       "120              0.874521        0.321293       0.936589       0.824427   \n",
       "125              0.880268        0.317236       0.938936       0.820611   \n",
       "130              0.885057        0.314693       0.939810       0.816794   \n",
       "135              0.884100        0.311130       0.941990       0.824427   \n",
       "140              0.883142        0.309438       0.941535       0.816794   \n",
       "145              0.879310        0.308262       0.942109       0.809160   \n",
       "150              0.883142        0.306389       0.942552       0.816794   \n",
       "155              0.882184        0.305329       0.943458       0.812977   \n",
       "160              0.884100        0.303021       0.944136       0.816794   \n",
       "165              0.885057        0.302376       0.944510       0.816794   \n",
       "170              0.887931        0.299994       0.945304       0.816794   \n",
       "175              0.887931        0.298003       0.945720       0.820611   \n",
       "180              0.886973        0.297495       0.946275       0.824427   \n",
       "185              0.887931        0.296932       0.946537       0.816794   \n",
       "190              0.886973        0.295499       0.947342       0.816794   \n",
       "195              0.888889        0.293722       0.947481       0.816794   \n",
       "200              0.890805        0.293348       0.947447       0.820611   \n",
       "\n",
       "           test_log_loss  test_roc_auc  \n",
       "iteration                               \n",
       "5               0.577639      0.831460  \n",
       "10              0.509095      0.840019  \n",
       "15              0.481362      0.840891  \n",
       "20              0.463700      0.842539  \n",
       "25              0.454584      0.842571  \n",
       "30              0.445018      0.846964  \n",
       "35              0.441254      0.843120  \n",
       "40              0.436183      0.847093  \n",
       "45              0.432421      0.851066  \n",
       "50              0.430821      0.851712  \n",
       "55              0.428490      0.852584  \n",
       "60              0.425506      0.854587  \n",
       "65              0.426964      0.854393  \n",
       "70              0.425090      0.857235  \n",
       "75              0.427284      0.855685  \n",
       "80              0.424227      0.857300  \n",
       "85              0.423886      0.858140  \n",
       "90              0.424163      0.858592  \n",
       "95              0.424039      0.858721  \n",
       "100             0.426373      0.856395  \n",
       "105             0.423569      0.858979  \n",
       "110             0.425673      0.856525  \n",
       "115             0.425780      0.857171  \n",
       "120             0.422491      0.861240  \n",
       "125             0.424921      0.859302  \n",
       "130             0.423591      0.862597  \n",
       "135             0.420521      0.863760  \n",
       "140             0.418363      0.864083  \n",
       "145             0.419420      0.863501  \n",
       "150             0.417796      0.865310  \n",
       "155             0.416740      0.866860  \n",
       "160             0.415048      0.868023  \n",
       "165             0.416237      0.867829  \n",
       "170             0.417203      0.866344  \n",
       "175             0.416944      0.866150  \n",
       "180             0.416926      0.865956  \n",
       "185             0.417680      0.865891  \n",
       "190             0.420179      0.867442  \n",
       "195             0.420547      0.867054  \n",
       "200             0.421203      0.867054  "
      ]
     },
     "execution_count": 34,
     "metadata": {},
     "output_type": "execute_result"
    }
   ],
   "source": [
    "pd.concat((train_scores_df, test_scores_df), axis=1)"
   ]
  },
  {
   "cell_type": "code",
   "execution_count": 35,
   "metadata": {
    "execution": {
     "iopub.execute_input": "2021-05-09T15:58:18.652613Z",
     "iopub.status.busy": "2021-05-09T15:58:18.652613Z",
     "iopub.status.idle": "2021-05-09T15:58:19.135010Z",
     "shell.execute_reply": "2021-05-09T15:58:19.134050Z",
     "shell.execute_reply.started": "2021-05-09T15:58:18.652613Z"
    },
    "tags": []
   },
   "outputs": [
    {
     "data": {
      "image/png": "[encoded data removed]",
      "text/plain": [
       "<Figure size 432x288 with 1 Axes>"
      ]
     },
     "metadata": {
      "image/png": {
       "height": 296,
       "width": 440
      },
      "needs_background": "light"
     },
     "output_type": "display_data"
    }
   ],
   "source": [
    "fig, ax = plt.subplots()\n",
    "\n",
    "train_scores_df.plot(marker=\".\", ax=ax)\n",
    "ax.set_prop_cycle(None)  # reset color cycle\n",
    "test_scores_df.plot(marker=\".\", ls=\":\", ax=ax)\n",
    "ax.grid()"
   ]
  },
  {
   "cell_type": "markdown",
   "metadata": {},
   "source": [
    "### Early stopping\n",
    "\n",
    "검증 세트를 주면 검증 세트의 점수가 더 나아지지 않으면 일찍 학습을 끊을수 있습니다."
   ]
  },
  {
   "cell_type": "code",
   "execution_count": 36,
   "metadata": {
    "execution": {
     "iopub.execute_input": "2021-05-09T15:58:19.137011Z",
     "iopub.status.busy": "2021-05-09T15:58:19.136009Z",
     "iopub.status.idle": "2021-05-09T15:58:19.167010Z",
     "shell.execute_reply": "2021-05-09T15:58:19.166011Z",
     "shell.execute_reply.started": "2021-05-09T15:58:19.137011Z"
    },
    "tags": []
   },
   "outputs": [],
   "source": [
    "(\n",
    "    x_train_train,\n",
    "    x_train_valid,\n",
    "    y_train_train,\n",
    "    y_train_valid,\n",
    ") = sklearn.model_selection.train_test_split(x_train, y_train)\n",
    "\n",
    "dtrain = xgb.DMatrix(x_train_train, label=y_train_train)\n",
    "dvalid = xgb.DMatrix(x_train_valid, label=y_train_valid)\n",
    "dtest = xgb.DMatrix(x_test, label=y_test)"
   ]
  },
  {
   "cell_type": "code",
   "execution_count": 37,
   "metadata": {
    "execution": {
     "iopub.execute_input": "2021-05-09T15:58:19.170013Z",
     "iopub.status.busy": "2021-05-09T15:58:19.169013Z",
     "iopub.status.idle": "2021-05-09T15:58:19.663096Z",
     "shell.execute_reply": "2021-05-09T15:58:19.662097Z",
     "shell.execute_reply.started": "2021-05-09T15:58:19.170013Z"
    },
    "tags": []
   },
   "outputs": [
    {
     "name": "stdout",
     "output_type": "stream",
     "text": [
      "[0]\tvalidset-logloss:0.67339\n",
      "[1]\tvalidset-logloss:0.64428\n",
      "[2]\tvalidset-logloss:0.61245\n",
      "[3]\tvalidset-logloss:0.60462\n",
      "[4]\tvalidset-logloss:0.59463\n",
      "[5]\tvalidset-logloss:0.58899\n",
      "[6]\tvalidset-logloss:0.58084\n",
      "[7]\tvalidset-logloss:0.57580\n",
      "[8]\tvalidset-logloss:0.57202\n",
      "[9]\tvalidset-logloss:0.56871\n",
      "[10]\tvalidset-logloss:0.56644\n",
      "[11]\tvalidset-logloss:0.54779\n",
      "[12]\tvalidset-logloss:0.53592\n",
      "[13]\tvalidset-logloss:0.52177\n",
      "[14]\tvalidset-logloss:0.51122\n",
      "[15]\tvalidset-logloss:0.50276\n",
      "[16]\tvalidset-logloss:0.49444\n",
      "[17]\tvalidset-logloss:0.48711\n",
      "[18]\tvalidset-logloss:0.48040\n",
      "[19]\tvalidset-logloss:0.47903\n",
      "[20]\tvalidset-logloss:0.47860\n",
      "[21]\tvalidset-logloss:0.47802\n",
      "[22]\tvalidset-logloss:0.47670\n",
      "[23]\tvalidset-logloss:0.47570\n",
      "[24]\tvalidset-logloss:0.47145\n",
      "[25]\tvalidset-logloss:0.46627\n",
      "[26]\tvalidset-logloss:0.46315\n",
      "[27]\tvalidset-logloss:0.46021\n",
      "[28]\tvalidset-logloss:0.45845\n",
      "[29]\tvalidset-logloss:0.45549\n",
      "[30]\tvalidset-logloss:0.45455\n",
      "[31]\tvalidset-logloss:0.45254\n",
      "[32]\tvalidset-logloss:0.45184\n",
      "[33]\tvalidset-logloss:0.45134\n",
      "[34]\tvalidset-logloss:0.45179\n",
      "[35]\tvalidset-logloss:0.44988\n",
      "[36]\tvalidset-logloss:0.44796\n",
      "[37]\tvalidset-logloss:0.44608\n",
      "[38]\tvalidset-logloss:0.44578\n",
      "[39]\tvalidset-logloss:0.44587\n",
      "[40]\tvalidset-logloss:0.44561\n",
      "[41]\tvalidset-logloss:0.44334\n",
      "[42]\tvalidset-logloss:0.44321\n",
      "[43]\tvalidset-logloss:0.44114\n",
      "[44]\tvalidset-logloss:0.44110\n",
      "[45]\tvalidset-logloss:0.44030\n",
      "[46]\tvalidset-logloss:0.44022\n",
      "[47]\tvalidset-logloss:0.44020\n",
      "[48]\tvalidset-logloss:0.44171\n",
      "[49]\tvalidset-logloss:0.44061\n",
      "[50]\tvalidset-logloss:0.43939\n",
      "[51]\tvalidset-logloss:0.43871\n",
      "[52]\tvalidset-logloss:0.43708\n",
      "[53]\tvalidset-logloss:0.43676\n",
      "[54]\tvalidset-logloss:0.43446\n",
      "[55]\tvalidset-logloss:0.43512\n",
      "[56]\tvalidset-logloss:0.43377\n",
      "[57]\tvalidset-logloss:0.43231\n",
      "[58]\tvalidset-logloss:0.43344\n",
      "[59]\tvalidset-logloss:0.43042\n",
      "[60]\tvalidset-logloss:0.42933\n",
      "[61]\tvalidset-logloss:0.43049\n",
      "[62]\tvalidset-logloss:0.42967\n",
      "[63]\tvalidset-logloss:0.42743\n",
      "[64]\tvalidset-logloss:0.42659\n",
      "[65]\tvalidset-logloss:0.42729\n",
      "[66]\tvalidset-logloss:0.42542\n",
      "[67]\tvalidset-logloss:0.42498\n",
      "[68]\tvalidset-logloss:0.42513\n",
      "[69]\tvalidset-logloss:0.42448\n",
      "[70]\tvalidset-logloss:0.42425\n",
      "[71]\tvalidset-logloss:0.42464\n",
      "[72]\tvalidset-logloss:0.42549\n",
      "[73]\tvalidset-logloss:0.42483\n",
      "[74]\tvalidset-logloss:0.42481\n",
      "[75]\tvalidset-logloss:0.42523\n",
      "[76]\tvalidset-logloss:0.42538\n",
      "[77]\tvalidset-logloss:0.42608\n",
      "[78]\tvalidset-logloss:0.42597\n",
      "[79]\tvalidset-logloss:0.42620\n",
      "[80]\tvalidset-logloss:0.42552\n",
      "[81]\tvalidset-logloss:0.42484\n",
      "[82]\tvalidset-logloss:0.42309\n",
      "[83]\tvalidset-logloss:0.42240\n",
      "[84]\tvalidset-logloss:0.42314\n",
      "[85]\tvalidset-logloss:0.42042\n",
      "[86]\tvalidset-logloss:0.42005\n",
      "[87]\tvalidset-logloss:0.42131\n",
      "[88]\tvalidset-logloss:0.42011\n",
      "[89]\tvalidset-logloss:0.41828\n",
      "[90]\tvalidset-logloss:0.41929\n",
      "[91]\tvalidset-logloss:0.41944\n",
      "[92]\tvalidset-logloss:0.42029\n",
      "[93]\tvalidset-logloss:0.42085\n",
      "[94]\tvalidset-logloss:0.42244\n",
      "[95]\tvalidset-logloss:0.42284\n",
      "[96]\tvalidset-logloss:0.42300\n",
      "[97]\tvalidset-logloss:0.42300\n",
      "[98]\tvalidset-logloss:0.42226\n",
      "[99]\tvalidset-logloss:0.42501\n",
      "[100]\tvalidset-logloss:0.42484\n",
      "[101]\tvalidset-logloss:0.42556\n",
      "[102]\tvalidset-logloss:0.42343\n",
      "[103]\tvalidset-logloss:0.42328\n",
      "[104]\tvalidset-logloss:0.42434\n",
      "[105]\tvalidset-logloss:0.42424\n",
      "[106]\tvalidset-logloss:0.42253\n",
      "[107]\tvalidset-logloss:0.42115\n",
      "[108]\tvalidset-logloss:0.42260\n",
      "[109]\tvalidset-logloss:0.42389\n"
     ]
    }
   ],
   "source": [
    "num_round = 200\n",
    "\n",
    "bst = xgb.train(\n",
    "    params,\n",
    "    dtrain,\n",
    "    num_boost_round=num_round,\n",
    "    evals=[(dvalid, \"validset\")],\n",
    "    early_stopping_rounds=20,\n",
    ")"
   ]
  },
  {
   "cell_type": "markdown",
   "metadata": {},
   "source": [
    "## Scikit-learn wrapper API\n",
    "\n",
    "XGBoost에서는 scikit-learn의 pipeline 등에 넣어서 scikit-learn의 estimator처럼 쓸 수 있는 wrapper 인터페이스를 제공합니다."
   ]
  },
  {
   "cell_type": "code",
   "execution_count": 38,
   "metadata": {
    "execution": {
     "iopub.execute_input": "2021-05-09T15:58:19.666098Z",
     "iopub.status.busy": "2021-05-09T15:58:19.666098Z",
     "iopub.status.idle": "2021-05-09T15:58:19.680098Z",
     "shell.execute_reply": "2021-05-09T15:58:19.678101Z",
     "shell.execute_reply.started": "2021-05-09T15:58:19.666098Z"
    },
    "tags": []
   },
   "outputs": [],
   "source": [
    "titanic_transformer = FunctionTransformer(titanic_one_hot_encoder)"
   ]
  },
  {
   "cell_type": "code",
   "execution_count": 39,
   "metadata": {
    "execution": {
     "iopub.execute_input": "2021-05-09T15:58:19.683099Z",
     "iopub.status.busy": "2021-05-09T15:58:19.682097Z",
     "iopub.status.idle": "2021-05-09T15:58:19.803100Z",
     "shell.execute_reply": "2021-05-09T15:58:19.802095Z",
     "shell.execute_reply.started": "2021-05-09T15:58:19.682097Z"
    },
    "tags": []
   },
   "outputs": [
    {
     "data": {
      "text/html": [
       "<div>\n",
       "<style scoped>\n",
       "    .dataframe tbody tr th:only-of-type {\n",
       "        vertical-align: middle;\n",
       "    }\n",
       "\n",
       "    .dataframe tbody tr th {\n",
       "        vertical-align: top;\n",
       "    }\n",
       "\n",
       "    .dataframe thead th {\n",
       "        text-align: right;\n",
       "    }\n",
       "</style>\n",
       "<table border=\"1\" class=\"dataframe\">\n",
       "  <thead>\n",
       "    <tr style=\"text-align: right;\">\n",
       "      <th></th>\n",
       "      <th>age</th>\n",
       "      <th>sibsp</th>\n",
       "      <th>parch</th>\n",
       "      <th>fare</th>\n",
       "      <th>pclass_1</th>\n",
       "      <th>pclass_2</th>\n",
       "      <th>pclass_3</th>\n",
       "      <th>sex_female</th>\n",
       "      <th>embarked_c</th>\n",
       "      <th>embarked_q</th>\n",
       "      <th>embarked_s</th>\n",
       "    </tr>\n",
       "  </thead>\n",
       "  <tbody>\n",
       "    <tr>\n",
       "      <th>872</th>\n",
       "      <td>50.0</td>\n",
       "      <td>1</td>\n",
       "      <td>0</td>\n",
       "      <td>26.0000</td>\n",
       "      <td>0</td>\n",
       "      <td>1</td>\n",
       "      <td>0</td>\n",
       "      <td>0</td>\n",
       "      <td>0</td>\n",
       "      <td>0</td>\n",
       "      <td>1</td>\n",
       "    </tr>\n",
       "    <tr>\n",
       "      <th>1251</th>\n",
       "      <td>50.0</td>\n",
       "      <td>0</td>\n",
       "      <td>1</td>\n",
       "      <td>247.5208</td>\n",
       "      <td>1</td>\n",
       "      <td>0</td>\n",
       "      <td>0</td>\n",
       "      <td>1</td>\n",
       "      <td>1</td>\n",
       "      <td>0</td>\n",
       "      <td>0</td>\n",
       "    </tr>\n",
       "    <tr>\n",
       "      <th>771</th>\n",
       "      <td>NaN</td>\n",
       "      <td>0</td>\n",
       "      <td>0</td>\n",
       "      <td>31.6833</td>\n",
       "      <td>1</td>\n",
       "      <td>0</td>\n",
       "      <td>0</td>\n",
       "      <td>1</td>\n",
       "      <td>0</td>\n",
       "      <td>0</td>\n",
       "      <td>1</td>\n",
       "    </tr>\n",
       "    <tr>\n",
       "      <th>574</th>\n",
       "      <td>36.0</td>\n",
       "      <td>1</td>\n",
       "      <td>0</td>\n",
       "      <td>26.0000</td>\n",
       "      <td>0</td>\n",
       "      <td>1</td>\n",
       "      <td>0</td>\n",
       "      <td>1</td>\n",
       "      <td>0</td>\n",
       "      <td>0</td>\n",
       "      <td>1</td>\n",
       "    </tr>\n",
       "    <tr>\n",
       "      <th>786</th>\n",
       "      <td>39.0</td>\n",
       "      <td>0</td>\n",
       "      <td>0</td>\n",
       "      <td>7.9250</td>\n",
       "      <td>0</td>\n",
       "      <td>0</td>\n",
       "      <td>1</td>\n",
       "      <td>0</td>\n",
       "      <td>0</td>\n",
       "      <td>0</td>\n",
       "      <td>1</td>\n",
       "    </tr>\n",
       "  </tbody>\n",
       "</table>\n",
       "</div>"
      ],
      "text/plain": [
       "       age  sibsp  parch      fare  pclass_1  pclass_2  pclass_3  sex_female  \\\n",
       "872   50.0      1      0   26.0000         0         1         0           0   \n",
       "1251  50.0      0      1  247.5208         1         0         0           1   \n",
       "771    NaN      0      0   31.6833         1         0         0           1   \n",
       "574   36.0      1      0   26.0000         0         1         0           1   \n",
       "786   39.0      0      0    7.9250         0         0         1           0   \n",
       "\n",
       "      embarked_c  embarked_q  embarked_s  \n",
       "872            0           0           1  \n",
       "1251           1           0           0  \n",
       "771            0           0           1  \n",
       "574            0           0           1  \n",
       "786            0           0           1  "
      ]
     },
     "metadata": {},
     "output_type": "display_data"
    },
    {
     "data": {
      "text/html": [
       "<div>\n",
       "<style scoped>\n",
       "    .dataframe tbody tr th:only-of-type {\n",
       "        vertical-align: middle;\n",
       "    }\n",
       "\n",
       "    .dataframe tbody tr th {\n",
       "        vertical-align: top;\n",
       "    }\n",
       "\n",
       "    .dataframe thead th {\n",
       "        text-align: right;\n",
       "    }\n",
       "</style>\n",
       "<table border=\"1\" class=\"dataframe\">\n",
       "  <thead>\n",
       "    <tr style=\"text-align: right;\">\n",
       "      <th></th>\n",
       "      <th>age</th>\n",
       "      <th>sibsp</th>\n",
       "      <th>parch</th>\n",
       "      <th>fare</th>\n",
       "      <th>pclass_1</th>\n",
       "      <th>pclass_2</th>\n",
       "      <th>pclass_3</th>\n",
       "      <th>sex_female</th>\n",
       "      <th>embarked_c</th>\n",
       "      <th>embarked_q</th>\n",
       "      <th>embarked_s</th>\n",
       "    </tr>\n",
       "  </thead>\n",
       "  <tbody>\n",
       "    <tr>\n",
       "      <th>644</th>\n",
       "      <td>1.0</td>\n",
       "      <td>0</td>\n",
       "      <td>2</td>\n",
       "      <td>37.0042</td>\n",
       "      <td>0</td>\n",
       "      <td>1</td>\n",
       "      <td>0</td>\n",
       "      <td>0</td>\n",
       "      <td>1</td>\n",
       "      <td>0</td>\n",
       "      <td>0</td>\n",
       "    </tr>\n",
       "    <tr>\n",
       "      <th>1144</th>\n",
       "      <td>36.0</td>\n",
       "      <td>1</td>\n",
       "      <td>0</td>\n",
       "      <td>17.4000</td>\n",
       "      <td>0</td>\n",
       "      <td>0</td>\n",
       "      <td>1</td>\n",
       "      <td>1</td>\n",
       "      <td>0</td>\n",
       "      <td>0</td>\n",
       "      <td>1</td>\n",
       "    </tr>\n",
       "    <tr>\n",
       "      <th>900</th>\n",
       "      <td>51.0</td>\n",
       "      <td>0</td>\n",
       "      <td>0</td>\n",
       "      <td>12.5250</td>\n",
       "      <td>0</td>\n",
       "      <td>1</td>\n",
       "      <td>0</td>\n",
       "      <td>0</td>\n",
       "      <td>0</td>\n",
       "      <td>0</td>\n",
       "      <td>1</td>\n",
       "    </tr>\n",
       "    <tr>\n",
       "      <th>398</th>\n",
       "      <td>18.0</td>\n",
       "      <td>0</td>\n",
       "      <td>0</td>\n",
       "      <td>6.7500</td>\n",
       "      <td>0</td>\n",
       "      <td>0</td>\n",
       "      <td>1</td>\n",
       "      <td>1</td>\n",
       "      <td>0</td>\n",
       "      <td>1</td>\n",
       "      <td>0</td>\n",
       "    </tr>\n",
       "    <tr>\n",
       "      <th>457</th>\n",
       "      <td>25.0</td>\n",
       "      <td>0</td>\n",
       "      <td>0</td>\n",
       "      <td>7.8958</td>\n",
       "      <td>0</td>\n",
       "      <td>0</td>\n",
       "      <td>1</td>\n",
       "      <td>0</td>\n",
       "      <td>0</td>\n",
       "      <td>0</td>\n",
       "      <td>1</td>\n",
       "    </tr>\n",
       "  </tbody>\n",
       "</table>\n",
       "</div>"
      ],
      "text/plain": [
       "       age  sibsp  parch     fare  pclass_1  pclass_2  pclass_3  sex_female  \\\n",
       "644    1.0      0      2  37.0042         0         1         0           0   \n",
       "1144  36.0      1      0  17.4000         0         0         1           1   \n",
       "900   51.0      0      0  12.5250         0         1         0           0   \n",
       "398   18.0      0      0   6.7500         0         0         1           1   \n",
       "457   25.0      0      0   7.8958         0         0         1           0   \n",
       "\n",
       "      embarked_c  embarked_q  embarked_s  \n",
       "644            1           0           0  \n",
       "1144           0           0           1  \n",
       "900            0           0           1  \n",
       "398            0           1           0  \n",
       "457            0           0           1  "
      ]
     },
     "metadata": {},
     "output_type": "display_data"
    }
   ],
   "source": [
    "titanic_transformer.fit(x_train_raw)\n",
    "\n",
    "one_hot_encoded_column_names = titanic_transformer.transform(x_train_raw).columns\n",
    "\n",
    "display(titanic_transformer.transform(x_train_raw).head())\n",
    "display(titanic_transformer.transform(x_test_raw).head())"
   ]
  },
  {
   "cell_type": "code",
   "execution_count": 40,
   "metadata": {
    "execution": {
     "iopub.execute_input": "2021-05-09T15:58:19.806099Z",
     "iopub.status.busy": "2021-05-09T15:58:19.806099Z",
     "iopub.status.idle": "2021-05-09T15:58:19.820096Z",
     "shell.execute_reply": "2021-05-09T15:58:19.818111Z",
     "shell.execute_reply.started": "2021-05-09T15:58:19.806099Z"
    },
    "tags": []
   },
   "outputs": [],
   "source": [
    "params = {\n",
    "    \"objective\": \"binary:logistic\",\n",
    "    \"n_estimators\": 200,\n",
    "    \"learning_rate\": 0.3,  # {0.3} learning rate\n",
    "    \"gamma\": 1.0,  # {0} Minimum loss reduction\n",
    "    \"max_depth\": 5,  # {6}\n",
    "    \"subsample\": 0.5,  # {1} Row (sample) subsample ratio\n",
    "    \"colsample_bytree\": 1.0,  # {1} Column (feature) subsample ratio\n",
    "    \"reg_lambda\": 1,  # {1} L2 regularization term\n",
    "    \"verbosity\": 0,\n",
    "    \"use_label_encoder\": False,\n",
    "}"
   ]
  },
  {
   "cell_type": "code",
   "execution_count": 41,
   "metadata": {
    "execution": {
     "iopub.execute_input": "2021-05-09T15:58:19.823105Z",
     "iopub.status.busy": "2021-05-09T15:58:19.822098Z",
     "iopub.status.idle": "2021-05-09T15:58:19.851101Z",
     "shell.execute_reply": "2021-05-09T15:58:19.849095Z",
     "shell.execute_reply.started": "2021-05-09T15:58:19.823105Z"
    },
    "tags": []
   },
   "outputs": [
    {
     "data": {
      "text/plain": [
       "Pipeline(steps=[('one_hot',\n",
       "                 FunctionTransformer(func=<function titanic_one_hot_encoder at 0x000001FFEDFB9F70>)),\n",
       "                ('as_contiguous',\n",
       "                 FunctionTransformer(func=<function ascontiguousarray at 0x000001FFE7FCAB80>)),\n",
       "                ('clf',\n",
       "                 XGBClassifier(base_score=None, booster=None,\n",
       "                               colsample_bylevel=None, colsample_bynode=None,\n",
       "                               colsample_bytree=1.0, gamma=1.0, gpu_id=None,\n",
       "                               importance_t...\n",
       "                               interaction_constraints=None, learning_rate=0.3,\n",
       "                               max_delta_step=None, max_depth=5,\n",
       "                               min_child_weight=None, missing=nan,\n",
       "                               monotone_constraints=None, n_estimators=200,\n",
       "                               n_jobs=None, num_parallel_tree=None,\n",
       "                               random_state=None, reg_alpha=None, reg_lambda=1,\n",
       "                               scale_pos_weight=None, subsample=0.5,\n",
       "                               tree_method=None, use_label_encoder=False,\n",
       "                               validate_parameters=None, verbosity=0))])"
      ]
     },
     "execution_count": 41,
     "metadata": {},
     "output_type": "execute_result"
    }
   ],
   "source": [
    "pipe = Pipeline(\n",
    "    [\n",
    "        (\"one_hot\", FunctionTransformer(titanic_one_hot_encoder)),\n",
    "        # For supress XGBoost UserWarning\n",
    "        (\"as_contiguous\", FunctionTransformer(np.ascontiguousarray)),\n",
    "        (\"clf\", XGBClassifier(**params)),\n",
    "    ]\n",
    ")\n",
    "pipe"
   ]
  },
  {
   "cell_type": "code",
   "execution_count": 42,
   "metadata": {
    "execution": {
     "iopub.execute_input": "2021-05-09T15:58:19.854098Z",
     "iopub.status.busy": "2021-05-09T15:58:19.853097Z",
     "iopub.status.idle": "2021-05-09T15:58:19.881097Z",
     "shell.execute_reply": "2021-05-09T15:58:19.880097Z",
     "shell.execute_reply.started": "2021-05-09T15:58:19.854098Z"
    },
    "tags": []
   },
   "outputs": [],
   "source": [
    "x_train, x_valid, y_train, y_valid = sklearn.model_selection.train_test_split(\n",
    "    x_train_raw, y_train_raw\n",
    ")\n",
    "\n",
    "x_test = x_test_raw.copy()\n",
    "y_test = y_test_raw.copy()"
   ]
  },
  {
   "cell_type": "code",
   "execution_count": 43,
   "metadata": {
    "execution": {
     "iopub.execute_input": "2021-05-09T15:58:19.884099Z",
     "iopub.status.busy": "2021-05-09T15:58:19.884099Z",
     "iopub.status.idle": "2021-05-09T15:58:19.913097Z",
     "shell.execute_reply": "2021-05-09T15:58:19.912099Z",
     "shell.execute_reply.started": "2021-05-09T15:58:19.884099Z"
    },
    "tags": []
   },
   "outputs": [
    {
     "data": {
      "text/html": [
       "<div>\n",
       "<style scoped>\n",
       "    .dataframe tbody tr th:only-of-type {\n",
       "        vertical-align: middle;\n",
       "    }\n",
       "\n",
       "    .dataframe tbody tr th {\n",
       "        vertical-align: top;\n",
       "    }\n",
       "\n",
       "    .dataframe thead th {\n",
       "        text-align: right;\n",
       "    }\n",
       "</style>\n",
       "<table border=\"1\" class=\"dataframe\">\n",
       "  <thead>\n",
       "    <tr style=\"text-align: right;\">\n",
       "      <th></th>\n",
       "      <th>age</th>\n",
       "      <th>sibsp</th>\n",
       "      <th>parch</th>\n",
       "      <th>fare</th>\n",
       "      <th>pclass</th>\n",
       "      <th>sex</th>\n",
       "      <th>embarked</th>\n",
       "    </tr>\n",
       "  </thead>\n",
       "  <tbody>\n",
       "    <tr>\n",
       "      <th>1155</th>\n",
       "      <td>NaN</td>\n",
       "      <td>1</td>\n",
       "      <td>0</td>\n",
       "      <td>19.9667</td>\n",
       "      <td>3</td>\n",
       "      <td>male</td>\n",
       "      <td>S</td>\n",
       "    </tr>\n",
       "    <tr>\n",
       "      <th>455</th>\n",
       "      <td>19.0</td>\n",
       "      <td>0</td>\n",
       "      <td>0</td>\n",
       "      <td>10.5000</td>\n",
       "      <td>2</td>\n",
       "      <td>male</td>\n",
       "      <td>S</td>\n",
       "    </tr>\n",
       "    <tr>\n",
       "      <th>172</th>\n",
       "      <td>36.0</td>\n",
       "      <td>0</td>\n",
       "      <td>0</td>\n",
       "      <td>31.6792</td>\n",
       "      <td>1</td>\n",
       "      <td>female</td>\n",
       "      <td>C</td>\n",
       "    </tr>\n",
       "    <tr>\n",
       "      <th>792</th>\n",
       "      <td>22.0</td>\n",
       "      <td>0</td>\n",
       "      <td>0</td>\n",
       "      <td>21.0000</td>\n",
       "      <td>2</td>\n",
       "      <td>female</td>\n",
       "      <td>S</td>\n",
       "    </tr>\n",
       "    <tr>\n",
       "      <th>199</th>\n",
       "      <td>14.0</td>\n",
       "      <td>4</td>\n",
       "      <td>1</td>\n",
       "      <td>39.6875</td>\n",
       "      <td>3</td>\n",
       "      <td>male</td>\n",
       "      <td>S</td>\n",
       "    </tr>\n",
       "  </tbody>\n",
       "</table>\n",
       "</div>"
      ],
      "text/plain": [
       "       age  sibsp  parch     fare pclass     sex embarked\n",
       "1155   NaN      1      0  19.9667      3    male        S\n",
       "455   19.0      0      0  10.5000      2    male        S\n",
       "172   36.0      0      0  31.6792      1  female        C\n",
       "792   22.0      0      0  21.0000      2  female        S\n",
       "199   14.0      4      1  39.6875      3    male        S"
      ]
     },
     "execution_count": 43,
     "metadata": {},
     "output_type": "execute_result"
    }
   ],
   "source": [
    "x_train.head()"
   ]
  },
  {
   "cell_type": "code",
   "execution_count": 44,
   "metadata": {
    "execution": {
     "iopub.execute_input": "2021-05-09T15:58:19.916097Z",
     "iopub.status.busy": "2021-05-09T15:58:19.915096Z",
     "iopub.status.idle": "2021-05-09T15:58:19.944098Z",
     "shell.execute_reply": "2021-05-09T15:58:19.943095Z",
     "shell.execute_reply.started": "2021-05-09T15:58:19.916097Z"
    },
    "tags": []
   },
   "outputs": [
    {
     "data": {
      "text/plain": [
       "1155    0\n",
       "455     0\n",
       "172     0\n",
       "792     0\n",
       "199     0\n",
       "       ..\n",
       "944     0\n",
       "704     0\n",
       "713     1\n",
       "360     0\n",
       "635     1\n",
       "Name: survived, Length: 783, dtype: int64"
      ]
     },
     "execution_count": 44,
     "metadata": {},
     "output_type": "execute_result"
    }
   ],
   "source": [
    "y_train"
   ]
  },
  {
   "cell_type": "code",
   "execution_count": 45,
   "metadata": {
    "execution": {
     "iopub.execute_input": "2021-05-09T15:58:19.947098Z",
     "iopub.status.busy": "2021-05-09T15:58:19.946096Z",
     "iopub.status.idle": "2021-05-09T15:58:20.334614Z",
     "shell.execute_reply": "2021-05-09T15:58:20.333579Z",
     "shell.execute_reply.started": "2021-05-09T15:58:19.946096Z"
    },
    "tags": []
   },
   "outputs": [],
   "source": [
    "pipe.fit(x_train, y_train)\n",
    "pass"
   ]
  },
  {
   "cell_type": "code",
   "execution_count": 46,
   "metadata": {
    "execution": {
     "iopub.execute_input": "2021-05-09T15:58:20.336645Z",
     "iopub.status.busy": "2021-05-09T15:58:20.336645Z",
     "iopub.status.idle": "2021-05-09T15:58:20.385347Z",
     "shell.execute_reply": "2021-05-09T15:58:20.383802Z",
     "shell.execute_reply.started": "2021-05-09T15:58:20.336645Z"
    },
    "tags": []
   },
   "outputs": [
    {
     "data": {
      "text/plain": [
       "{'accuracy': 0.7595419847328244,\n",
       " 'log_loss': 0.5779880791884657,\n",
       " 'roc_auc': 0.8135658914728683}"
      ]
     },
     "execution_count": 46,
     "metadata": {},
     "output_type": "execute_result"
    }
   ],
   "source": [
    "get_scores(y_test, np.ascontiguousarray(pipe.predict_proba(x_test)[:, 1]))"
   ]
  },
  {
   "cell_type": "markdown",
   "metadata": {},
   "source": [
    "### 파라미터 최적화"
   ]
  },
  {
   "cell_type": "code",
   "execution_count": 47,
   "metadata": {
    "execution": {
     "iopub.execute_input": "2021-05-09T15:58:20.387395Z",
     "iopub.status.busy": "2021-05-09T15:58:20.387395Z",
     "iopub.status.idle": "2021-05-09T15:58:20.405650Z",
     "shell.execute_reply": "2021-05-09T15:58:20.403605Z",
     "shell.execute_reply.started": "2021-05-09T15:58:20.387395Z"
    },
    "tags": []
   },
   "outputs": [],
   "source": [
    "param_grid = {\n",
    "    \"clf__learning_rate\": [0.01, 0.03, 0.1],\n",
    "    \"clf__colsample_bytree\": [0.3, 0.5, 1.0],\n",
    "}"
   ]
  },
  {
   "cell_type": "code",
   "execution_count": 48,
   "metadata": {
    "execution": {
     "iopub.execute_input": "2021-05-09T15:58:20.407692Z",
     "iopub.status.busy": "2021-05-09T15:58:20.407692Z",
     "iopub.status.idle": "2021-05-09T15:58:20.463611Z",
     "shell.execute_reply": "2021-05-09T15:58:20.463611Z",
     "shell.execute_reply.started": "2021-05-09T15:58:20.407692Z"
    },
    "tags": []
   },
   "outputs": [
    {
     "data": {
      "text/html": [
       "<div>\n",
       "<style scoped>\n",
       "    .dataframe tbody tr th:only-of-type {\n",
       "        vertical-align: middle;\n",
       "    }\n",
       "\n",
       "    .dataframe tbody tr th {\n",
       "        vertical-align: top;\n",
       "    }\n",
       "\n",
       "    .dataframe thead th {\n",
       "        text-align: right;\n",
       "    }\n",
       "</style>\n",
       "<table border=\"1\" class=\"dataframe\">\n",
       "  <thead>\n",
       "    <tr style=\"text-align: right;\">\n",
       "      <th></th>\n",
       "      <th>age</th>\n",
       "      <th>sibsp</th>\n",
       "      <th>parch</th>\n",
       "      <th>fare</th>\n",
       "      <th>pclass</th>\n",
       "      <th>sex</th>\n",
       "      <th>embarked</th>\n",
       "    </tr>\n",
       "  </thead>\n",
       "  <tbody>\n",
       "    <tr>\n",
       "      <th>1155</th>\n",
       "      <td>NaN</td>\n",
       "      <td>1</td>\n",
       "      <td>0</td>\n",
       "      <td>19.9667</td>\n",
       "      <td>3</td>\n",
       "      <td>male</td>\n",
       "      <td>S</td>\n",
       "    </tr>\n",
       "    <tr>\n",
       "      <th>455</th>\n",
       "      <td>19.0</td>\n",
       "      <td>0</td>\n",
       "      <td>0</td>\n",
       "      <td>10.5000</td>\n",
       "      <td>2</td>\n",
       "      <td>male</td>\n",
       "      <td>S</td>\n",
       "    </tr>\n",
       "    <tr>\n",
       "      <th>172</th>\n",
       "      <td>36.0</td>\n",
       "      <td>0</td>\n",
       "      <td>0</td>\n",
       "      <td>31.6792</td>\n",
       "      <td>1</td>\n",
       "      <td>female</td>\n",
       "      <td>C</td>\n",
       "    </tr>\n",
       "    <tr>\n",
       "      <th>792</th>\n",
       "      <td>22.0</td>\n",
       "      <td>0</td>\n",
       "      <td>0</td>\n",
       "      <td>21.0000</td>\n",
       "      <td>2</td>\n",
       "      <td>female</td>\n",
       "      <td>S</td>\n",
       "    </tr>\n",
       "    <tr>\n",
       "      <th>199</th>\n",
       "      <td>14.0</td>\n",
       "      <td>4</td>\n",
       "      <td>1</td>\n",
       "      <td>39.6875</td>\n",
       "      <td>3</td>\n",
       "      <td>male</td>\n",
       "      <td>S</td>\n",
       "    </tr>\n",
       "    <tr>\n",
       "      <th>...</th>\n",
       "      <td>...</td>\n",
       "      <td>...</td>\n",
       "      <td>...</td>\n",
       "      <td>...</td>\n",
       "      <td>...</td>\n",
       "      <td>...</td>\n",
       "      <td>...</td>\n",
       "    </tr>\n",
       "    <tr>\n",
       "      <th>944</th>\n",
       "      <td>38.0</td>\n",
       "      <td>4</td>\n",
       "      <td>2</td>\n",
       "      <td>7.7750</td>\n",
       "      <td>3</td>\n",
       "      <td>female</td>\n",
       "      <td>S</td>\n",
       "    </tr>\n",
       "    <tr>\n",
       "      <th>704</th>\n",
       "      <td>32.0</td>\n",
       "      <td>0</td>\n",
       "      <td>0</td>\n",
       "      <td>7.9250</td>\n",
       "      <td>3</td>\n",
       "      <td>male</td>\n",
       "      <td>S</td>\n",
       "    </tr>\n",
       "    <tr>\n",
       "      <th>713</th>\n",
       "      <td>NaN</td>\n",
       "      <td>0</td>\n",
       "      <td>0</td>\n",
       "      <td>56.4958</td>\n",
       "      <td>3</td>\n",
       "      <td>male</td>\n",
       "      <td>S</td>\n",
       "    </tr>\n",
       "    <tr>\n",
       "      <th>360</th>\n",
       "      <td>18.0</td>\n",
       "      <td>1</td>\n",
       "      <td>1</td>\n",
       "      <td>13.0000</td>\n",
       "      <td>2</td>\n",
       "      <td>female</td>\n",
       "      <td>S</td>\n",
       "    </tr>\n",
       "    <tr>\n",
       "      <th>635</th>\n",
       "      <td>21.0</td>\n",
       "      <td>2</td>\n",
       "      <td>2</td>\n",
       "      <td>262.3750</td>\n",
       "      <td>1</td>\n",
       "      <td>female</td>\n",
       "      <td>C</td>\n",
       "    </tr>\n",
       "  </tbody>\n",
       "</table>\n",
       "<p>783 rows × 7 columns</p>\n",
       "</div>"
      ],
      "text/plain": [
       "       age  sibsp  parch      fare pclass     sex embarked\n",
       "1155   NaN      1      0   19.9667      3    male        S\n",
       "455   19.0      0      0   10.5000      2    male        S\n",
       "172   36.0      0      0   31.6792      1  female        C\n",
       "792   22.0      0      0   21.0000      2  female        S\n",
       "199   14.0      4      1   39.6875      3    male        S\n",
       "...    ...    ...    ...       ...    ...     ...      ...\n",
       "944   38.0      4      2    7.7750      3  female        S\n",
       "704   32.0      0      0    7.9250      3    male        S\n",
       "713    NaN      0      0   56.4958      3    male        S\n",
       "360   18.0      1      1   13.0000      2  female        S\n",
       "635   21.0      2      2  262.3750      1  female        C\n",
       "\n",
       "[783 rows x 7 columns]"
      ]
     },
     "execution_count": 48,
     "metadata": {},
     "output_type": "execute_result"
    }
   ],
   "source": [
    "x_train"
   ]
  },
  {
   "cell_type": "code",
   "execution_count": 49,
   "metadata": {
    "execution": {
     "iopub.execute_input": "2021-05-09T15:58:20.466648Z",
     "iopub.status.busy": "2021-05-09T15:58:20.466648Z",
     "iopub.status.idle": "2021-05-09T15:58:35.750973Z",
     "shell.execute_reply": "2021-05-09T15:58:35.749983Z",
     "shell.execute_reply.started": "2021-05-09T15:58:20.466648Z"
    },
    "tags": []
   },
   "outputs": [],
   "source": [
    "gs = GridSearchCV(pipe, param_grid, scoring=\"neg_log_loss\")\n",
    "\n",
    "gs.fit(x_train, np.ascontiguousarray(y_train))\n",
    "pass"
   ]
  },
  {
   "cell_type": "code",
   "execution_count": 50,
   "metadata": {
    "execution": {
     "iopub.execute_input": "2021-05-09T15:58:35.752973Z",
     "iopub.status.busy": "2021-05-09T15:58:35.751974Z",
     "iopub.status.idle": "2021-05-09T15:58:35.782978Z",
     "shell.execute_reply": "2021-05-09T15:58:35.781973Z",
     "shell.execute_reply.started": "2021-05-09T15:58:35.752973Z"
    },
    "tags": []
   },
   "outputs": [
    {
     "data": {
      "text/plain": [
       "array([1, 0, 0, 1, 0, 0, 0, 1, 0, 0, 0, 0, 0, 0, 0, 0, 0, 1, 0, 1, 0, 0,\n",
       "       0, 0, 1, 0, 1, 0, 0, 0, 0, 0, 0, 0, 0, 0, 0, 0, 1, 0, 0, 0, 0, 0,\n",
       "       1, 1, 0, 0, 0, 0, 1, 1, 0, 0, 0, 0, 1, 1, 0, 0, 0, 0, 0, 0, 0, 0,\n",
       "       1, 0, 0, 1, 1, 1, 0, 1, 0, 0, 1, 0, 0, 0, 0, 1, 0, 0, 0, 0, 1, 0,\n",
       "       0, 0, 0, 0, 0, 1, 0, 1, 1, 1, 0, 0, 0, 1, 1, 1, 0, 1, 1, 0, 0, 0,\n",
       "       1, 1, 0, 1, 0, 1, 0, 1, 0, 0, 0, 0, 0, 1, 0, 1, 0, 0, 1, 0, 0, 0,\n",
       "       0, 0, 0, 0, 0, 0, 0, 1, 0, 0, 1, 0, 0, 0, 1, 0, 0, 1, 1, 0, 0, 0,\n",
       "       1, 0, 1, 0, 0, 0, 1, 0, 0, 0, 1, 0, 0, 0, 1, 1, 0, 0, 1, 1, 1, 0,\n",
       "       0, 0, 0, 0, 0, 0, 0, 0, 0, 0, 0, 0, 0, 1, 0, 0, 0, 1, 0, 0, 0, 0,\n",
       "       0, 1, 0, 0, 0, 0, 0, 0, 0, 0, 1, 0, 0, 0, 0, 0, 1, 1, 1, 0, 1, 0,\n",
       "       0, 1, 1, 0, 1, 0, 0, 0, 0, 0, 0, 0, 0, 0, 0, 0, 0, 0, 0, 0, 0, 0,\n",
       "       0, 1, 0, 0, 1, 0, 0, 0, 0, 1, 1, 0, 1, 1, 0, 0, 0, 0, 0, 1])"
      ]
     },
     "execution_count": 50,
     "metadata": {},
     "output_type": "execute_result"
    }
   ],
   "source": [
    "gs.predict(x_test)"
   ]
  },
  {
   "cell_type": "code",
   "execution_count": 51,
   "metadata": {
    "execution": {
     "iopub.execute_input": "2021-05-09T15:58:35.785976Z",
     "iopub.status.busy": "2021-05-09T15:58:35.784973Z",
     "iopub.status.idle": "2021-05-09T15:58:35.829977Z",
     "shell.execute_reply": "2021-05-09T15:58:35.827985Z",
     "shell.execute_reply.started": "2021-05-09T15:58:35.785976Z"
    }
   },
   "outputs": [
    {
     "data": {
      "text/plain": [
       "{'accuracy': 0.8129770992366412,\n",
       " 'log_loss': 0.44214632091972667,\n",
       " 'roc_auc': 0.8539405684754524}"
      ]
     },
     "execution_count": 51,
     "metadata": {},
     "output_type": "execute_result"
    }
   ],
   "source": [
    "get_scores(y_test, gs.predict_proba(x_test)[:, 1])"
   ]
  },
  {
   "cell_type": "code",
   "execution_count": 52,
   "metadata": {
    "execution": {
     "iopub.execute_input": "2021-05-09T15:58:35.832972Z",
     "iopub.status.busy": "2021-05-09T15:58:35.831974Z",
     "iopub.status.idle": "2021-05-09T15:58:35.892977Z",
     "shell.execute_reply": "2021-05-09T15:58:35.889974Z",
     "shell.execute_reply.started": "2021-05-09T15:58:35.832972Z"
    }
   },
   "outputs": [
    {
     "data": {
      "text/html": [
       "<div>\n",
       "<style scoped>\n",
       "    .dataframe tbody tr th:only-of-type {\n",
       "        vertical-align: middle;\n",
       "    }\n",
       "\n",
       "    .dataframe tbody tr th {\n",
       "        vertical-align: top;\n",
       "    }\n",
       "\n",
       "    .dataframe thead th {\n",
       "        text-align: right;\n",
       "    }\n",
       "</style>\n",
       "<table border=\"1\" class=\"dataframe\">\n",
       "  <thead>\n",
       "    <tr style=\"text-align: right;\">\n",
       "      <th></th>\n",
       "      <th>mean_fit_time</th>\n",
       "      <th>std_fit_time</th>\n",
       "      <th>mean_score_time</th>\n",
       "      <th>std_score_time</th>\n",
       "      <th>param_clf__colsample_bytree</th>\n",
       "      <th>param_clf__learning_rate</th>\n",
       "      <th>params</th>\n",
       "      <th>split0_test_score</th>\n",
       "      <th>split1_test_score</th>\n",
       "      <th>split2_test_score</th>\n",
       "      <th>split3_test_score</th>\n",
       "      <th>split4_test_score</th>\n",
       "      <th>mean_test_score</th>\n",
       "      <th>std_test_score</th>\n",
       "      <th>rank_test_score</th>\n",
       "    </tr>\n",
       "  </thead>\n",
       "  <tbody>\n",
       "    <tr>\n",
       "      <th>0</th>\n",
       "      <td>0.276404</td>\n",
       "      <td>0.008923</td>\n",
       "      <td>0.024165</td>\n",
       "      <td>0.003486</td>\n",
       "      <td>0.3</td>\n",
       "      <td>0.01</td>\n",
       "      <td>{'clf__colsample_bytree': 0.3, 'clf__learning_...</td>\n",
       "      <td>-0.531913</td>\n",
       "      <td>-0.519410</td>\n",
       "      <td>-0.500942</td>\n",
       "      <td>-0.527942</td>\n",
       "      <td>-0.510422</td>\n",
       "      <td>-0.518126</td>\n",
       "      <td>0.011338</td>\n",
       "      <td>9</td>\n",
       "    </tr>\n",
       "    <tr>\n",
       "      <th>1</th>\n",
       "      <td>0.275577</td>\n",
       "      <td>0.010586</td>\n",
       "      <td>0.020767</td>\n",
       "      <td>0.002400</td>\n",
       "      <td>0.3</td>\n",
       "      <td>0.03</td>\n",
       "      <td>{'clf__colsample_bytree': 0.3, 'clf__learning_...</td>\n",
       "      <td>-0.484551</td>\n",
       "      <td>-0.473843</td>\n",
       "      <td>-0.435970</td>\n",
       "      <td>-0.476854</td>\n",
       "      <td>-0.436845</td>\n",
       "      <td>-0.461612</td>\n",
       "      <td>0.020876</td>\n",
       "      <td>4</td>\n",
       "    </tr>\n",
       "    <tr>\n",
       "      <th>2</th>\n",
       "      <td>0.334059</td>\n",
       "      <td>0.077079</td>\n",
       "      <td>0.026787</td>\n",
       "      <td>0.006664</td>\n",
       "      <td>0.3</td>\n",
       "      <td>0.1</td>\n",
       "      <td>{'clf__colsample_bytree': 0.3, 'clf__learning_...</td>\n",
       "      <td>-0.502011</td>\n",
       "      <td>-0.498808</td>\n",
       "      <td>-0.439249</td>\n",
       "      <td>-0.480747</td>\n",
       "      <td>-0.410764</td>\n",
       "      <td>-0.466316</td>\n",
       "      <td>0.035656</td>\n",
       "      <td>5</td>\n",
       "    </tr>\n",
       "    <tr>\n",
       "      <th>3</th>\n",
       "      <td>0.330437</td>\n",
       "      <td>0.004883</td>\n",
       "      <td>0.018645</td>\n",
       "      <td>0.000644</td>\n",
       "      <td>0.5</td>\n",
       "      <td>0.01</td>\n",
       "      <td>{'clf__colsample_bytree': 0.5, 'clf__learning_...</td>\n",
       "      <td>-0.503882</td>\n",
       "      <td>-0.495472</td>\n",
       "      <td>-0.467749</td>\n",
       "      <td>-0.498129</td>\n",
       "      <td>-0.470155</td>\n",
       "      <td>-0.487078</td>\n",
       "      <td>0.015066</td>\n",
       "      <td>7</td>\n",
       "    </tr>\n",
       "    <tr>\n",
       "      <th>4</th>\n",
       "      <td>0.299239</td>\n",
       "      <td>0.003345</td>\n",
       "      <td>0.016079</td>\n",
       "      <td>0.002662</td>\n",
       "      <td>0.5</td>\n",
       "      <td>0.03</td>\n",
       "      <td>{'clf__colsample_bytree': 0.5, 'clf__learning_...</td>\n",
       "      <td>-0.471504</td>\n",
       "      <td>-0.472337</td>\n",
       "      <td>-0.427058</td>\n",
       "      <td>-0.464820</td>\n",
       "      <td>-0.417899</td>\n",
       "      <td>-0.450723</td>\n",
       "      <td>0.023389</td>\n",
       "      <td>2</td>\n",
       "    </tr>\n",
       "    <tr>\n",
       "      <th>5</th>\n",
       "      <td>0.303846</td>\n",
       "      <td>0.011913</td>\n",
       "      <td>0.018712</td>\n",
       "      <td>0.002047</td>\n",
       "      <td>0.5</td>\n",
       "      <td>0.1</td>\n",
       "      <td>{'clf__colsample_bytree': 0.5, 'clf__learning_...</td>\n",
       "      <td>-0.513421</td>\n",
       "      <td>-0.504308</td>\n",
       "      <td>-0.442661</td>\n",
       "      <td>-0.478671</td>\n",
       "      <td>-0.431972</td>\n",
       "      <td>-0.474207</td>\n",
       "      <td>0.032381</td>\n",
       "      <td>6</td>\n",
       "    </tr>\n",
       "    <tr>\n",
       "      <th>6</th>\n",
       "      <td>0.327609</td>\n",
       "      <td>0.016886</td>\n",
       "      <td>0.017773</td>\n",
       "      <td>0.002500</td>\n",
       "      <td>1.0</td>\n",
       "      <td>0.01</td>\n",
       "      <td>{'clf__colsample_bytree': 1.0, 'clf__learning_...</td>\n",
       "      <td>-0.463671</td>\n",
       "      <td>-0.479663</td>\n",
       "      <td>-0.419671</td>\n",
       "      <td>-0.461190</td>\n",
       "      <td>-0.424138</td>\n",
       "      <td>-0.449667</td>\n",
       "      <td>0.023580</td>\n",
       "      <td>1</td>\n",
       "    </tr>\n",
       "    <tr>\n",
       "      <th>7</th>\n",
       "      <td>0.317565</td>\n",
       "      <td>0.011316</td>\n",
       "      <td>0.016557</td>\n",
       "      <td>0.002198</td>\n",
       "      <td>1.0</td>\n",
       "      <td>0.03</td>\n",
       "      <td>{'clf__colsample_bytree': 1.0, 'clf__learning_...</td>\n",
       "      <td>-0.463409</td>\n",
       "      <td>-0.484445</td>\n",
       "      <td>-0.427342</td>\n",
       "      <td>-0.454218</td>\n",
       "      <td>-0.425482</td>\n",
       "      <td>-0.450979</td>\n",
       "      <td>0.022333</td>\n",
       "      <td>3</td>\n",
       "    </tr>\n",
       "    <tr>\n",
       "      <th>8</th>\n",
       "      <td>0.303406</td>\n",
       "      <td>0.007044</td>\n",
       "      <td>0.016111</td>\n",
       "      <td>0.002068</td>\n",
       "      <td>1.0</td>\n",
       "      <td>0.1</td>\n",
       "      <td>{'clf__colsample_bytree': 1.0, 'clf__learning_...</td>\n",
       "      <td>-0.510976</td>\n",
       "      <td>-0.528544</td>\n",
       "      <td>-0.459021</td>\n",
       "      <td>-0.516253</td>\n",
       "      <td>-0.458336</td>\n",
       "      <td>-0.494626</td>\n",
       "      <td>0.029900</td>\n",
       "      <td>8</td>\n",
       "    </tr>\n",
       "  </tbody>\n",
       "</table>\n",
       "</div>"
      ],
      "text/plain": [
       "   mean_fit_time  std_fit_time  mean_score_time  std_score_time  \\\n",
       "0       0.276404      0.008923         0.024165        0.003486   \n",
       "1       0.275577      0.010586         0.020767        0.002400   \n",
       "2       0.334059      0.077079         0.026787        0.006664   \n",
       "3       0.330437      0.004883         0.018645        0.000644   \n",
       "4       0.299239      0.003345         0.016079        0.002662   \n",
       "5       0.303846      0.011913         0.018712        0.002047   \n",
       "6       0.327609      0.016886         0.017773        0.002500   \n",
       "7       0.317565      0.011316         0.016557        0.002198   \n",
       "8       0.303406      0.007044         0.016111        0.002068   \n",
       "\n",
       "  param_clf__colsample_bytree param_clf__learning_rate  \\\n",
       "0                         0.3                     0.01   \n",
       "1                         0.3                     0.03   \n",
       "2                         0.3                      0.1   \n",
       "3                         0.5                     0.01   \n",
       "4                         0.5                     0.03   \n",
       "5                         0.5                      0.1   \n",
       "6                         1.0                     0.01   \n",
       "7                         1.0                     0.03   \n",
       "8                         1.0                      0.1   \n",
       "\n",
       "                                              params  split0_test_score  \\\n",
       "0  {'clf__colsample_bytree': 0.3, 'clf__learning_...          -0.531913   \n",
       "1  {'clf__colsample_bytree': 0.3, 'clf__learning_...          -0.484551   \n",
       "2  {'clf__colsample_bytree': 0.3, 'clf__learning_...          -0.502011   \n",
       "3  {'clf__colsample_bytree': 0.5, 'clf__learning_...          -0.503882   \n",
       "4  {'clf__colsample_bytree': 0.5, 'clf__learning_...          -0.471504   \n",
       "5  {'clf__colsample_bytree': 0.5, 'clf__learning_...          -0.513421   \n",
       "6  {'clf__colsample_bytree': 1.0, 'clf__learning_...          -0.463671   \n",
       "7  {'clf__colsample_bytree': 1.0, 'clf__learning_...          -0.463409   \n",
       "8  {'clf__colsample_bytree': 1.0, 'clf__learning_...          -0.510976   \n",
       "\n",
       "   split1_test_score  split2_test_score  split3_test_score  split4_test_score  \\\n",
       "0          -0.519410          -0.500942          -0.527942          -0.510422   \n",
       "1          -0.473843          -0.435970          -0.476854          -0.436845   \n",
       "2          -0.498808          -0.439249          -0.480747          -0.410764   \n",
       "3          -0.495472          -0.467749          -0.498129          -0.470155   \n",
       "4          -0.472337          -0.427058          -0.464820          -0.417899   \n",
       "5          -0.504308          -0.442661          -0.478671          -0.431972   \n",
       "6          -0.479663          -0.419671          -0.461190          -0.424138   \n",
       "7          -0.484445          -0.427342          -0.454218          -0.425482   \n",
       "8          -0.528544          -0.459021          -0.516253          -0.458336   \n",
       "\n",
       "   mean_test_score  std_test_score  rank_test_score  \n",
       "0        -0.518126        0.011338                9  \n",
       "1        -0.461612        0.020876                4  \n",
       "2        -0.466316        0.035656                5  \n",
       "3        -0.487078        0.015066                7  \n",
       "4        -0.450723        0.023389                2  \n",
       "5        -0.474207        0.032381                6  \n",
       "6        -0.449667        0.023580                1  \n",
       "7        -0.450979        0.022333                3  \n",
       "8        -0.494626        0.029900                8  "
      ]
     },
     "execution_count": 52,
     "metadata": {},
     "output_type": "execute_result"
    }
   ],
   "source": [
    "pd.DataFrame(gs.cv_results_)"
   ]
  },
  {
   "cell_type": "code",
   "execution_count": 53,
   "metadata": {
    "execution": {
     "iopub.execute_input": "2021-05-09T15:58:35.895990Z",
     "iopub.status.busy": "2021-05-09T15:58:35.895990Z",
     "iopub.status.idle": "2021-05-09T15:58:35.907976Z",
     "shell.execute_reply": "2021-05-09T15:58:35.905975Z",
     "shell.execute_reply.started": "2021-05-09T15:58:35.895990Z"
    },
    "tags": []
   },
   "outputs": [
    {
     "data": {
      "text/plain": [
       "{'clf__colsample_bytree': 1.0, 'clf__learning_rate': 0.01}"
      ]
     },
     "execution_count": 53,
     "metadata": {},
     "output_type": "execute_result"
    }
   ],
   "source": [
    "gs.best_params_"
   ]
  },
  {
   "cell_type": "code",
   "execution_count": 54,
   "metadata": {
    "execution": {
     "iopub.execute_input": "2021-05-09T15:58:35.910977Z",
     "iopub.status.busy": "2021-05-09T15:58:35.909978Z",
     "iopub.status.idle": "2021-05-09T15:58:35.936976Z",
     "shell.execute_reply": "2021-05-09T15:58:35.935973Z",
     "shell.execute_reply.started": "2021-05-09T15:58:35.910977Z"
    },
    "tags": []
   },
   "outputs": [
    {
     "data": {
      "text/plain": [
       "XGBClassifier(base_score=0.5, booster='gbtree', colsample_bylevel=1,\n",
       "              colsample_bynode=1, colsample_bytree=1.0, gamma=1.0, gpu_id=-1,\n",
       "              importance_type='gain', interaction_constraints='',\n",
       "              learning_rate=0.01, max_delta_step=0, max_depth=5,\n",
       "              min_child_weight=1, missing=nan, monotone_constraints='()',\n",
       "              n_estimators=200, n_jobs=8, num_parallel_tree=1, random_state=0,\n",
       "              reg_alpha=0, reg_lambda=1, scale_pos_weight=1, subsample=0.5,\n",
       "              tree_method='exact', use_label_encoder=False,\n",
       "              validate_parameters=1, verbosity=0)"
      ]
     },
     "execution_count": 54,
     "metadata": {},
     "output_type": "execute_result"
    }
   ],
   "source": [
    "gs.best_estimator_[\"clf\"]"
   ]
  },
  {
   "cell_type": "code",
   "execution_count": 55,
   "metadata": {
    "execution": {
     "iopub.execute_input": "2021-05-09T15:58:35.940975Z",
     "iopub.status.busy": "2021-05-09T15:58:35.940975Z",
     "iopub.status.idle": "2021-05-09T15:58:35.968981Z",
     "shell.execute_reply": "2021-05-09T15:58:35.967971Z",
     "shell.execute_reply.started": "2021-05-09T15:58:35.940975Z"
    },
    "tags": []
   },
   "outputs": [
    {
     "data": {
      "text/plain": [
       "{'one_hot': FunctionTransformer(func=<function titanic_one_hot_encoder at 0x000001FFEDFB9F70>),\n",
       " 'as_contiguous': FunctionTransformer(func=<function ascontiguousarray at 0x000001FFE7FCAB80>),\n",
       " 'clf': XGBClassifier(base_score=0.5, booster='gbtree', colsample_bylevel=1,\n",
       "               colsample_bynode=1, colsample_bytree=1.0, gamma=1.0, gpu_id=-1,\n",
       "               importance_type='gain', interaction_constraints='',\n",
       "               learning_rate=0.01, max_delta_step=0, max_depth=5,\n",
       "               min_child_weight=1, missing=nan, monotone_constraints='()',\n",
       "               n_estimators=200, n_jobs=8, num_parallel_tree=1, random_state=0,\n",
       "               reg_alpha=0, reg_lambda=1, scale_pos_weight=1, subsample=0.5,\n",
       "               tree_method='exact', use_label_encoder=False,\n",
       "               validate_parameters=1, verbosity=0)}"
      ]
     },
     "execution_count": 55,
     "metadata": {},
     "output_type": "execute_result"
    }
   ],
   "source": [
    "gs.best_estimator_.named_steps"
   ]
  },
  {
   "cell_type": "code",
   "execution_count": 56,
   "metadata": {
    "execution": {
     "iopub.execute_input": "2021-05-09T15:58:35.971975Z",
     "iopub.status.busy": "2021-05-09T15:58:35.970975Z",
     "iopub.status.idle": "2021-05-09T15:58:36.343733Z",
     "shell.execute_reply": "2021-05-09T15:58:36.343733Z",
     "shell.execute_reply.started": "2021-05-09T15:58:35.971975Z"
    },
    "tags": []
   },
   "outputs": [
    {
     "data": {
      "image/png": "[encoded data removed]",
      "text/plain": [
       "<Figure size 432x288 with 1 Axes>"
      ]
     },
     "metadata": {
      "image/png": {
       "height": 296,
       "width": 440
      },
      "needs_background": "light"
     },
     "output_type": "display_data"
    }
   ],
   "source": [
    "bst = gs.best_estimator_[\"clf\"].get_booster()\n",
    "importance = pd.Series(bst.get_score(importance_type=\"total_gain\")).rename(\n",
    "    {f\"f{i}\": name for i, name in enumerate(one_hot_encoded_column_names)}\n",
    ")\n",
    "\n",
    "fig, ax = plt.subplots()\n",
    "importance.sort_values().plot.barh(ax=ax)\n",
    "ax.set(title=\"Feature importance (total gain)\", xlabel=\"Score\")\n",
    "ax.grid(axis=\"x\")\n",
    "pass"
   ]
  }
 ],
 "metadata": {
  "jupytext": {
   "encoding": "# -*- coding: utf-8 -*-",
   "text_representation": {
    "extension": ".py",
    "format_name": "percent",
    "format_version": "1.3",
    "jupytext_version": "1.6.0"
   }
  },
  "kernelspec": {
   "display_name": "Python 3",
   "language": "python",
   "name": "python3"
  },
  "language_info": {
   "codemirror_mode": {
    "name": "ipython",
    "version": 3
   },
   "file_extension": ".py",
   "mimetype": "text/x-python",
   "name": "python",
   "nbconvert_exporter": "python",
   "pygments_lexer": "ipython3",
   "version": "3.9.4"
  },
  "toc-autonumbering": false
 },
 "nbformat": 4,
 "nbformat_minor": 4
}
